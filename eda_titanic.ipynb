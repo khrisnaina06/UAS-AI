{
  "nbformat": 4,
  "nbformat_minor": 0,
  "metadata": {
    "colab": {
      "provenance": [],
      "authorship_tag": "ABX9TyMNdVVTqPfle92DteczZ4mR",
      "include_colab_link": true
    },
    "kernelspec": {
      "name": "python3",
      "display_name": "Python 3"
    },
    "language_info": {
      "name": "python"
    }
  },
  "cells": [
    {
      "cell_type": "markdown",
      "metadata": {
        "id": "view-in-github",
        "colab_type": "text"
      },
      "source": [
        "<a href=\"https://github.com/khrisnaina06/UAS-AI/blob/1d74a1714aef5809fc2ff92a5c139f916e2e330f/dataset/Obesity%20Classification.csv" alt=\"Open In Colab\"/></a>"
      ]
    },
    {
      "cell_type": "markdown",
      "source": [
        "# EDA Titanic Dataset"
      ],
      "metadata": {
        "id": "0oKuggEDko6L"
      }
    },
    {
      "cell_type": "markdown",
      "source": [
        "## Data Loading"
      ],
      "metadata": {
        "id": "uSDGLI_4ktL7"
      }
    },
    {
      "cell_type": "code",
      "source": [
        "import pandas as pd\n",
        "dataset_file=\"https://raw.githubusercontent.com/asepmuhidin/MK-Data-Mining-UPB/main/dataset/titanic.csv\"\n",
        "data=pd.read_csv(dataset_file)\n",
        "data.head()"
      ],
      "metadata": {
        "colab": {
          "base_uri": "https://localhost:8080/",
          "height": 206
        },
        "id": "geg483KukDhj",
        "outputId": "9eb89759-a4ab-4374-b09b-4a56540833d3"
      },
      "execution_count": 3,
      "outputs": [
        {
          "output_type": "execute_result",
          "data": {
            "text/plain": [
              "   PassengerId  Survived  Pclass  \\\n",
              "0            1         0       3   \n",
              "1            2         1       1   \n",
              "2            3         1       3   \n",
              "3            4         1       1   \n",
              "4            5         0       3   \n",
              "\n",
              "                                                Name     Sex   Age  SibSp  \\\n",
              "0                            Braund, Mr. Owen Harris    male  22.0      1   \n",
              "1  Cumings, Mrs. John Bradley (Florence Briggs Th...  female  38.0      1   \n",
              "2                             Heikkinen, Miss. Laina  female  26.0      0   \n",
              "3       Futrelle, Mrs. Jacques Heath (Lily May Peel)  female  35.0      1   \n",
              "4                           Allen, Mr. William Henry    male  35.0      0   \n",
              "\n",
              "   Parch            Ticket     Fare Cabin Embarked  \n",
              "0      0         A/5 21171   7.2500   NaN        S  \n",
              "1      0          PC 17599  71.2833   C85        C  \n",
              "2      0  STON/O2. 3101282   7.9250   NaN        S  \n",
              "3      0            113803  53.1000  C123        S  \n",
              "4      0            373450   8.0500   NaN        S  "
            ],
            "text/html": [
              "\n",
              "  <div id=\"df-87e38847-07a9-4e05-8bb1-7c6b0a0702d7\" class=\"colab-df-container\">\n",
              "    <div>\n",
              "<style scoped>\n",
              "    .dataframe tbody tr th:only-of-type {\n",
              "        vertical-align: middle;\n",
              "    }\n",
              "\n",
              "    .dataframe tbody tr th {\n",
              "        vertical-align: top;\n",
              "    }\n",
              "\n",
              "    .dataframe thead th {\n",
              "        text-align: right;\n",
              "    }\n",
              "</style>\n",
              "<table border=\"1\" class=\"dataframe\">\n",
              "  <thead>\n",
              "    <tr style=\"text-align: right;\">\n",
              "      <th></th>\n",
              "      <th>PassengerId</th>\n",
              "      <th>Survived</th>\n",
              "      <th>Pclass</th>\n",
              "      <th>Name</th>\n",
              "      <th>Sex</th>\n",
              "      <th>Age</th>\n",
              "      <th>SibSp</th>\n",
              "      <th>Parch</th>\n",
              "      <th>Ticket</th>\n",
              "      <th>Fare</th>\n",
              "      <th>Cabin</th>\n",
              "      <th>Embarked</th>\n",
              "    </tr>\n",
              "  </thead>\n",
              "  <tbody>\n",
              "    <tr>\n",
              "      <th>0</th>\n",
              "      <td>1</td>\n",
              "      <td>0</td>\n",
              "      <td>3</td>\n",
              "      <td>Braund, Mr. Owen Harris</td>\n",
              "      <td>male</td>\n",
              "      <td>22.0</td>\n",
              "      <td>1</td>\n",
              "      <td>0</td>\n",
              "      <td>A/5 21171</td>\n",
              "      <td>7.2500</td>\n",
              "      <td>NaN</td>\n",
              "      <td>S</td>\n",
              "    </tr>\n",
              "    <tr>\n",
              "      <th>1</th>\n",
              "      <td>2</td>\n",
              "      <td>1</td>\n",
              "      <td>1</td>\n",
              "      <td>Cumings, Mrs. John Bradley (Florence Briggs Th...</td>\n",
              "      <td>female</td>\n",
              "      <td>38.0</td>\n",
              "      <td>1</td>\n",
              "      <td>0</td>\n",
              "      <td>PC 17599</td>\n",
              "      <td>71.2833</td>\n",
              "      <td>C85</td>\n",
              "      <td>C</td>\n",
              "    </tr>\n",
              "    <tr>\n",
              "      <th>2</th>\n",
              "      <td>3</td>\n",
              "      <td>1</td>\n",
              "      <td>3</td>\n",
              "      <td>Heikkinen, Miss. Laina</td>\n",
              "      <td>female</td>\n",
              "      <td>26.0</td>\n",
              "      <td>0</td>\n",
              "      <td>0</td>\n",
              "      <td>STON/O2. 3101282</td>\n",
              "      <td>7.9250</td>\n",
              "      <td>NaN</td>\n",
              "      <td>S</td>\n",
              "    </tr>\n",
              "    <tr>\n",
              "      <th>3</th>\n",
              "      <td>4</td>\n",
              "      <td>1</td>\n",
              "      <td>1</td>\n",
              "      <td>Futrelle, Mrs. Jacques Heath (Lily May Peel)</td>\n",
              "      <td>female</td>\n",
              "      <td>35.0</td>\n",
              "      <td>1</td>\n",
              "      <td>0</td>\n",
              "      <td>113803</td>\n",
              "      <td>53.1000</td>\n",
              "      <td>C123</td>\n",
              "      <td>S</td>\n",
              "    </tr>\n",
              "    <tr>\n",
              "      <th>4</th>\n",
              "      <td>5</td>\n",
              "      <td>0</td>\n",
              "      <td>3</td>\n",
              "      <td>Allen, Mr. William Henry</td>\n",
              "      <td>male</td>\n",
              "      <td>35.0</td>\n",
              "      <td>0</td>\n",
              "      <td>0</td>\n",
              "      <td>373450</td>\n",
              "      <td>8.0500</td>\n",
              "      <td>NaN</td>\n",
              "      <td>S</td>\n",
              "    </tr>\n",
              "  </tbody>\n",
              "</table>\n",
              "</div>\n",
              "    <div class=\"colab-df-buttons\">\n",
              "\n",
              "  <div class=\"colab-df-container\">\n",
              "    <button class=\"colab-df-convert\" onclick=\"convertToInteractive('df-87e38847-07a9-4e05-8bb1-7c6b0a0702d7')\"\n",
              "            title=\"Convert this dataframe to an interactive table.\"\n",
              "            style=\"display:none;\">\n",
              "\n",
              "  <svg xmlns=\"http://www.w3.org/2000/svg\" height=\"24px\" viewBox=\"0 -960 960 960\">\n",
              "    <path d=\"M120-120v-720h720v720H120Zm60-500h600v-160H180v160Zm220 220h160v-160H400v160Zm0 220h160v-160H400v160ZM180-400h160v-160H180v160Zm440 0h160v-160H620v160ZM180-180h160v-160H180v160Zm440 0h160v-160H620v160Z\"/>\n",
              "  </svg>\n",
              "    </button>\n",
              "\n",
              "  <style>\n",
              "    .colab-df-container {\n",
              "      display:flex;\n",
              "      gap: 12px;\n",
              "    }\n",
              "\n",
              "    .colab-df-convert {\n",
              "      background-color: #E8F0FE;\n",
              "      border: none;\n",
              "      border-radius: 50%;\n",
              "      cursor: pointer;\n",
              "      display: none;\n",
              "      fill: #1967D2;\n",
              "      height: 32px;\n",
              "      padding: 0 0 0 0;\n",
              "      width: 32px;\n",
              "    }\n",
              "\n",
              "    .colab-df-convert:hover {\n",
              "      background-color: #E2EBFA;\n",
              "      box-shadow: 0px 1px 2px rgba(60, 64, 67, 0.3), 0px 1px 3px 1px rgba(60, 64, 67, 0.15);\n",
              "      fill: #174EA6;\n",
              "    }\n",
              "\n",
              "    .colab-df-buttons div {\n",
              "      margin-bottom: 4px;\n",
              "    }\n",
              "\n",
              "    [theme=dark] .colab-df-convert {\n",
              "      background-color: #3B4455;\n",
              "      fill: #D2E3FC;\n",
              "    }\n",
              "\n",
              "    [theme=dark] .colab-df-convert:hover {\n",
              "      background-color: #434B5C;\n",
              "      box-shadow: 0px 1px 3px 1px rgba(0, 0, 0, 0.15);\n",
              "      filter: drop-shadow(0px 1px 2px rgba(0, 0, 0, 0.3));\n",
              "      fill: #FFFFFF;\n",
              "    }\n",
              "  </style>\n",
              "\n",
              "    <script>\n",
              "      const buttonEl =\n",
              "        document.querySelector('#df-87e38847-07a9-4e05-8bb1-7c6b0a0702d7 button.colab-df-convert');\n",
              "      buttonEl.style.display =\n",
              "        google.colab.kernel.accessAllowed ? 'block' : 'none';\n",
              "\n",
              "      async function convertToInteractive(key) {\n",
              "        const element = document.querySelector('#df-87e38847-07a9-4e05-8bb1-7c6b0a0702d7');\n",
              "        const dataTable =\n",
              "          await google.colab.kernel.invokeFunction('convertToInteractive',\n",
              "                                                    [key], {});\n",
              "        if (!dataTable) return;\n",
              "\n",
              "        const docLinkHtml = 'Like what you see? Visit the ' +\n",
              "          '<a target=\"_blank\" href=https://colab.research.google.com/notebooks/data_table.ipynb>data table notebook</a>'\n",
              "          + ' to learn more about interactive tables.';\n",
              "        element.innerHTML = '';\n",
              "        dataTable['output_type'] = 'display_data';\n",
              "        await google.colab.output.renderOutput(dataTable, element);\n",
              "        const docLink = document.createElement('div');\n",
              "        docLink.innerHTML = docLinkHtml;\n",
              "        element.appendChild(docLink);\n",
              "      }\n",
              "    </script>\n",
              "  </div>\n",
              "\n",
              "\n",
              "<div id=\"df-8205b2af-d0ab-498a-9879-96d18a040502\">\n",
              "  <button class=\"colab-df-quickchart\" onclick=\"quickchart('df-8205b2af-d0ab-498a-9879-96d18a040502')\"\n",
              "            title=\"Suggest charts\"\n",
              "            style=\"display:none;\">\n",
              "\n",
              "<svg xmlns=\"http://www.w3.org/2000/svg\" height=\"24px\"viewBox=\"0 0 24 24\"\n",
              "     width=\"24px\">\n",
              "    <g>\n",
              "        <path d=\"M19 3H5c-1.1 0-2 .9-2 2v14c0 1.1.9 2 2 2h14c1.1 0 2-.9 2-2V5c0-1.1-.9-2-2-2zM9 17H7v-7h2v7zm4 0h-2V7h2v10zm4 0h-2v-4h2v4z\"/>\n",
              "    </g>\n",
              "</svg>\n",
              "  </button>\n",
              "\n",
              "<style>\n",
              "  .colab-df-quickchart {\n",
              "      --bg-color: #E8F0FE;\n",
              "      --fill-color: #1967D2;\n",
              "      --hover-bg-color: #E2EBFA;\n",
              "      --hover-fill-color: #174EA6;\n",
              "      --disabled-fill-color: #AAA;\n",
              "      --disabled-bg-color: #DDD;\n",
              "  }\n",
              "\n",
              "  [theme=dark] .colab-df-quickchart {\n",
              "      --bg-color: #3B4455;\n",
              "      --fill-color: #D2E3FC;\n",
              "      --hover-bg-color: #434B5C;\n",
              "      --hover-fill-color: #FFFFFF;\n",
              "      --disabled-bg-color: #3B4455;\n",
              "      --disabled-fill-color: #666;\n",
              "  }\n",
              "\n",
              "  .colab-df-quickchart {\n",
              "    background-color: var(--bg-color);\n",
              "    border: none;\n",
              "    border-radius: 50%;\n",
              "    cursor: pointer;\n",
              "    display: none;\n",
              "    fill: var(--fill-color);\n",
              "    height: 32px;\n",
              "    padding: 0;\n",
              "    width: 32px;\n",
              "  }\n",
              "\n",
              "  .colab-df-quickchart:hover {\n",
              "    background-color: var(--hover-bg-color);\n",
              "    box-shadow: 0 1px 2px rgba(60, 64, 67, 0.3), 0 1px 3px 1px rgba(60, 64, 67, 0.15);\n",
              "    fill: var(--button-hover-fill-color);\n",
              "  }\n",
              "\n",
              "  .colab-df-quickchart-complete:disabled,\n",
              "  .colab-df-quickchart-complete:disabled:hover {\n",
              "    background-color: var(--disabled-bg-color);\n",
              "    fill: var(--disabled-fill-color);\n",
              "    box-shadow: none;\n",
              "  }\n",
              "\n",
              "  .colab-df-spinner {\n",
              "    border: 2px solid var(--fill-color);\n",
              "    border-color: transparent;\n",
              "    border-bottom-color: var(--fill-color);\n",
              "    animation:\n",
              "      spin 1s steps(1) infinite;\n",
              "  }\n",
              "\n",
              "  @keyframes spin {\n",
              "    0% {\n",
              "      border-color: transparent;\n",
              "      border-bottom-color: var(--fill-color);\n",
              "      border-left-color: var(--fill-color);\n",
              "    }\n",
              "    20% {\n",
              "      border-color: transparent;\n",
              "      border-left-color: var(--fill-color);\n",
              "      border-top-color: var(--fill-color);\n",
              "    }\n",
              "    30% {\n",
              "      border-color: transparent;\n",
              "      border-left-color: var(--fill-color);\n",
              "      border-top-color: var(--fill-color);\n",
              "      border-right-color: var(--fill-color);\n",
              "    }\n",
              "    40% {\n",
              "      border-color: transparent;\n",
              "      border-right-color: var(--fill-color);\n",
              "      border-top-color: var(--fill-color);\n",
              "    }\n",
              "    60% {\n",
              "      border-color: transparent;\n",
              "      border-right-color: var(--fill-color);\n",
              "    }\n",
              "    80% {\n",
              "      border-color: transparent;\n",
              "      border-right-color: var(--fill-color);\n",
              "      border-bottom-color: var(--fill-color);\n",
              "    }\n",
              "    90% {\n",
              "      border-color: transparent;\n",
              "      border-bottom-color: var(--fill-color);\n",
              "    }\n",
              "  }\n",
              "</style>\n",
              "\n",
              "  <script>\n",
              "    async function quickchart(key) {\n",
              "      const quickchartButtonEl =\n",
              "        document.querySelector('#' + key + ' button');\n",
              "      quickchartButtonEl.disabled = true;  // To prevent multiple clicks.\n",
              "      quickchartButtonEl.classList.add('colab-df-spinner');\n",
              "      try {\n",
              "        const charts = await google.colab.kernel.invokeFunction(\n",
              "            'suggestCharts', [key], {});\n",
              "      } catch (error) {\n",
              "        console.error('Error during call to suggestCharts:', error);\n",
              "      }\n",
              "      quickchartButtonEl.classList.remove('colab-df-spinner');\n",
              "      quickchartButtonEl.classList.add('colab-df-quickchart-complete');\n",
              "    }\n",
              "    (() => {\n",
              "      let quickchartButtonEl =\n",
              "        document.querySelector('#df-8205b2af-d0ab-498a-9879-96d18a040502 button');\n",
              "      quickchartButtonEl.style.display =\n",
              "        google.colab.kernel.accessAllowed ? 'block' : 'none';\n",
              "    })();\n",
              "  </script>\n",
              "</div>\n",
              "\n",
              "    </div>\n",
              "  </div>\n"
            ],
            "application/vnd.google.colaboratory.intrinsic+json": {
              "type": "dataframe",
              "variable_name": "data",
              "summary": "{\n  \"name\": \"data\",\n  \"rows\": 891,\n  \"fields\": [\n    {\n      \"column\": \"PassengerId\",\n      \"properties\": {\n        \"dtype\": \"number\",\n        \"std\": 257,\n        \"min\": 1,\n        \"max\": 891,\n        \"num_unique_values\": 891,\n        \"samples\": [\n          710,\n          440,\n          841\n        ],\n        \"semantic_type\": \"\",\n        \"description\": \"\"\n      }\n    },\n    {\n      \"column\": \"Survived\",\n      \"properties\": {\n        \"dtype\": \"number\",\n        \"std\": 0,\n        \"min\": 0,\n        \"max\": 1,\n        \"num_unique_values\": 2,\n        \"samples\": [\n          1,\n          0\n        ],\n        \"semantic_type\": \"\",\n        \"description\": \"\"\n      }\n    },\n    {\n      \"column\": \"Pclass\",\n      \"properties\": {\n        \"dtype\": \"number\",\n        \"std\": 0,\n        \"min\": 1,\n        \"max\": 3,\n        \"num_unique_values\": 3,\n        \"samples\": [\n          3,\n          1\n        ],\n        \"semantic_type\": \"\",\n        \"description\": \"\"\n      }\n    },\n    {\n      \"column\": \"Name\",\n      \"properties\": {\n        \"dtype\": \"string\",\n        \"num_unique_values\": 891,\n        \"samples\": [\n          \"Moubarek, Master. Halim Gonios (\\\"William George\\\")\",\n          \"Kvillner, Mr. Johan Henrik Johannesson\"\n        ],\n        \"semantic_type\": \"\",\n        \"description\": \"\"\n      }\n    },\n    {\n      \"column\": \"Sex\",\n      \"properties\": {\n        \"dtype\": \"category\",\n        \"num_unique_values\": 2,\n        \"samples\": [\n          \"female\",\n          \"male\"\n        ],\n        \"semantic_type\": \"\",\n        \"description\": \"\"\n      }\n    },\n    {\n      \"column\": \"Age\",\n      \"properties\": {\n        \"dtype\": \"number\",\n        \"std\": 14.526497332334044,\n        \"min\": 0.42,\n        \"max\": 80.0,\n        \"num_unique_values\": 88,\n        \"samples\": [\n          0.75,\n          22.0\n        ],\n        \"semantic_type\": \"\",\n        \"description\": \"\"\n      }\n    },\n    {\n      \"column\": \"SibSp\",\n      \"properties\": {\n        \"dtype\": \"number\",\n        \"std\": 1,\n        \"min\": 0,\n        \"max\": 8,\n        \"num_unique_values\": 7,\n        \"samples\": [\n          1,\n          0\n        ],\n        \"semantic_type\": \"\",\n        \"description\": \"\"\n      }\n    },\n    {\n      \"column\": \"Parch\",\n      \"properties\": {\n        \"dtype\": \"number\",\n        \"std\": 0,\n        \"min\": 0,\n        \"max\": 6,\n        \"num_unique_values\": 7,\n        \"samples\": [\n          0,\n          1\n        ],\n        \"semantic_type\": \"\",\n        \"description\": \"\"\n      }\n    },\n    {\n      \"column\": \"Ticket\",\n      \"properties\": {\n        \"dtype\": \"string\",\n        \"num_unique_values\": 681,\n        \"samples\": [\n          \"11774\",\n          \"248740\"\n        ],\n        \"semantic_type\": \"\",\n        \"description\": \"\"\n      }\n    },\n    {\n      \"column\": \"Fare\",\n      \"properties\": {\n        \"dtype\": \"number\",\n        \"std\": 49.693428597180905,\n        \"min\": 0.0,\n        \"max\": 512.3292,\n        \"num_unique_values\": 248,\n        \"samples\": [\n          11.2417,\n          51.8625\n        ],\n        \"semantic_type\": \"\",\n        \"description\": \"\"\n      }\n    },\n    {\n      \"column\": \"Cabin\",\n      \"properties\": {\n        \"dtype\": \"category\",\n        \"num_unique_values\": 147,\n        \"samples\": [\n          \"D45\",\n          \"B49\"\n        ],\n        \"semantic_type\": \"\",\n        \"description\": \"\"\n      }\n    },\n    {\n      \"column\": \"Embarked\",\n      \"properties\": {\n        \"dtype\": \"category\",\n        \"num_unique_values\": 3,\n        \"samples\": [\n          \"S\",\n          \"C\"\n        ],\n        \"semantic_type\": \"\",\n        \"description\": \"\"\n      }\n    }\n  ]\n}"
            }
          },
          "metadata": {},
          "execution_count": 3
        }
      ]
    },
    {
      "cell_type": "markdown",
      "source": [
        "## Cek Duplikasi dan Data Kosong"
      ],
      "metadata": {
        "id": "9aMNAz2xlLaj"
      }
    },
    {
      "cell_type": "code",
      "source": [
        "#Cek duplikasi\n",
        "print(f\"Terdapat data duplikasi sebanyak {data.duplicated().sum()} baris\")"
      ],
      "metadata": {
        "colab": {
          "base_uri": "https://localhost:8080/"
        },
        "id": "t24ih5sflQgf",
        "outputId": "64869d10-3dbf-4ccf-f777-cf56e0fe9452"
      },
      "execution_count": 6,
      "outputs": [
        {
          "output_type": "stream",
          "name": "stdout",
          "text": [
            "Terdapat data duplikasi sebanyak 0 baris\n"
          ]
        }
      ]
    },
    {
      "cell_type": "code",
      "source": [
        "#Cek data kosong\n",
        "data.isna().sum()"
      ],
      "metadata": {
        "colab": {
          "base_uri": "https://localhost:8080/",
          "height": 460
        },
        "id": "Hnk1HuYMl6_x",
        "outputId": "744140be-941a-4e81-f641-003f8bb4d9fc"
      },
      "execution_count": 10,
      "outputs": [
        {
          "output_type": "execute_result",
          "data": {
            "text/plain": [
              "PassengerId      0\n",
              "Survived         0\n",
              "Pclass           0\n",
              "Name             0\n",
              "Sex              0\n",
              "Age            177\n",
              "SibSp            0\n",
              "Parch            0\n",
              "Ticket           0\n",
              "Fare             0\n",
              "Cabin          687\n",
              "Embarked         2\n",
              "dtype: int64"
            ],
            "text/html": [
              "<div>\n",
              "<style scoped>\n",
              "    .dataframe tbody tr th:only-of-type {\n",
              "        vertical-align: middle;\n",
              "    }\n",
              "\n",
              "    .dataframe tbody tr th {\n",
              "        vertical-align: top;\n",
              "    }\n",
              "\n",
              "    .dataframe thead th {\n",
              "        text-align: right;\n",
              "    }\n",
              "</style>\n",
              "<table border=\"1\" class=\"dataframe\">\n",
              "  <thead>\n",
              "    <tr style=\"text-align: right;\">\n",
              "      <th></th>\n",
              "      <th>0</th>\n",
              "    </tr>\n",
              "  </thead>\n",
              "  <tbody>\n",
              "    <tr>\n",
              "      <th>PassengerId</th>\n",
              "      <td>0</td>\n",
              "    </tr>\n",
              "    <tr>\n",
              "      <th>Survived</th>\n",
              "      <td>0</td>\n",
              "    </tr>\n",
              "    <tr>\n",
              "      <th>Pclass</th>\n",
              "      <td>0</td>\n",
              "    </tr>\n",
              "    <tr>\n",
              "      <th>Name</th>\n",
              "      <td>0</td>\n",
              "    </tr>\n",
              "    <tr>\n",
              "      <th>Sex</th>\n",
              "      <td>0</td>\n",
              "    </tr>\n",
              "    <tr>\n",
              "      <th>Age</th>\n",
              "      <td>177</td>\n",
              "    </tr>\n",
              "    <tr>\n",
              "      <th>SibSp</th>\n",
              "      <td>0</td>\n",
              "    </tr>\n",
              "    <tr>\n",
              "      <th>Parch</th>\n",
              "      <td>0</td>\n",
              "    </tr>\n",
              "    <tr>\n",
              "      <th>Ticket</th>\n",
              "      <td>0</td>\n",
              "    </tr>\n",
              "    <tr>\n",
              "      <th>Fare</th>\n",
              "      <td>0</td>\n",
              "    </tr>\n",
              "    <tr>\n",
              "      <th>Cabin</th>\n",
              "      <td>687</td>\n",
              "    </tr>\n",
              "    <tr>\n",
              "      <th>Embarked</th>\n",
              "      <td>2</td>\n",
              "    </tr>\n",
              "  </tbody>\n",
              "</table>\n",
              "</div><br><label><b>dtype:</b> int64</label>"
            ]
          },
          "metadata": {},
          "execution_count": 10
        }
      ]
    },
    {
      "cell_type": "markdown",
      "source": [
        "## Mengatasi Duplikasi dan Data Kosong"
      ],
      "metadata": {
        "id": "xjS5tWiDm2Qt"
      }
    },
    {
      "cell_type": "code",
      "source": [
        "#Karena tidak ada baris yang duplikat, maka tidak harus ditangani\n",
        "#Kalau ada data duplikat lakukan perintah\n",
        "#data.drop_duplicates()"
      ],
      "metadata": {
        "id": "Z_SAsNKDm0E4"
      },
      "execution_count": null,
      "outputs": []
    },
    {
      "cell_type": "code",
      "source": [
        "#Hapus kolom yang terlalu banyak kosong(null) yaitu kolom 'Cabin'\n",
        "data.drop(columns=['Cabin'],inplace=True)\n"
      ],
      "metadata": {
        "id": "3Hcp17MXnFkd"
      },
      "execution_count": 11,
      "outputs": []
    },
    {
      "cell_type": "code",
      "source": [
        "#Imputasi data numerik yaitu kolom 'Age'\n",
        "mean=data.Age.mean()\n",
        "data.Age.fillna(int(mean),inplace=True)"
      ],
      "metadata": {
        "colab": {
          "base_uri": "https://localhost:8080/"
        },
        "id": "WORXZxcqnoon",
        "outputId": "a36aae7b-e703-4d1f-a70b-be4b04efbaf5"
      },
      "execution_count": 15,
      "outputs": [
        {
          "output_type": "stream",
          "name": "stderr",
          "text": [
            "<ipython-input-15-e1d226b9a9a1>:3: FutureWarning: A value is trying to be set on a copy of a DataFrame or Series through chained assignment using an inplace method.\n",
            "The behavior will change in pandas 3.0. This inplace method will never work because the intermediate object on which we are setting values always behaves as a copy.\n",
            "\n",
            "For example, when doing 'df[col].method(value, inplace=True)', try using 'df.method({col: value}, inplace=True)' or df[col] = df[col].method(value) instead, to perform the operation inplace on the original object.\n",
            "\n",
            "\n",
            "  data.Age.fillna(int(mean),inplace=True)\n"
          ]
        }
      ]
    },
    {
      "cell_type": "code",
      "source": [
        "#Imputasi data kategori yaitu kolom 'Embarked'\n",
        "#Cek data yang paling sering muncul\n",
        "data.Embarked.value_counts()"
      ],
      "metadata": {
        "colab": {
          "base_uri": "https://localhost:8080/",
          "height": 210
        },
        "id": "06xzNmi4pLuj",
        "outputId": "8d5fab3a-712b-471a-ddba-4eab2dfe9980"
      },
      "execution_count": 16,
      "outputs": [
        {
          "output_type": "execute_result",
          "data": {
            "text/plain": [
              "Embarked\n",
              "S    644\n",
              "C    168\n",
              "Q     77\n",
              "Name: count, dtype: int64"
            ],
            "text/html": [
              "<div>\n",
              "<style scoped>\n",
              "    .dataframe tbody tr th:only-of-type {\n",
              "        vertical-align: middle;\n",
              "    }\n",
              "\n",
              "    .dataframe tbody tr th {\n",
              "        vertical-align: top;\n",
              "    }\n",
              "\n",
              "    .dataframe thead th {\n",
              "        text-align: right;\n",
              "    }\n",
              "</style>\n",
              "<table border=\"1\" class=\"dataframe\">\n",
              "  <thead>\n",
              "    <tr style=\"text-align: right;\">\n",
              "      <th></th>\n",
              "      <th>count</th>\n",
              "    </tr>\n",
              "    <tr>\n",
              "      <th>Embarked</th>\n",
              "      <th></th>\n",
              "    </tr>\n",
              "  </thead>\n",
              "  <tbody>\n",
              "    <tr>\n",
              "      <th>S</th>\n",
              "      <td>644</td>\n",
              "    </tr>\n",
              "    <tr>\n",
              "      <th>C</th>\n",
              "      <td>168</td>\n",
              "    </tr>\n",
              "    <tr>\n",
              "      <th>Q</th>\n",
              "      <td>77</td>\n",
              "    </tr>\n",
              "  </tbody>\n",
              "</table>\n",
              "</div><br><label><b>dtype:</b> int64</label>"
            ]
          },
          "metadata": {},
          "execution_count": 16
        }
      ]
    },
    {
      "cell_type": "code",
      "source": [
        "#Berdasarkan data diatas, maka data yang sering muncul adalah 'S'\n",
        "data.Embarked.fillna('S',inplace=True)"
      ],
      "metadata": {
        "id": "KO51LeJ4plRJ"
      },
      "execution_count": 17,
      "outputs": []
    },
    {
      "cell_type": "code",
      "source": [
        "#Cek kembali data kosong\n",
        "data.isna().sum()"
      ],
      "metadata": {
        "colab": {
          "base_uri": "https://localhost:8080/",
          "height": 429
        },
        "id": "M1ys8q0ip13u",
        "outputId": "0543e9d5-fcab-48ed-b08c-6557311cbad2"
      },
      "execution_count": 18,
      "outputs": [
        {
          "output_type": "execute_result",
          "data": {
            "text/plain": [
              "PassengerId    0\n",
              "Survived       0\n",
              "Pclass         0\n",
              "Name           0\n",
              "Sex            0\n",
              "Age            0\n",
              "SibSp          0\n",
              "Parch          0\n",
              "Ticket         0\n",
              "Fare           0\n",
              "Embarked       0\n",
              "dtype: int64"
            ],
            "text/html": [
              "<div>\n",
              "<style scoped>\n",
              "    .dataframe tbody tr th:only-of-type {\n",
              "        vertical-align: middle;\n",
              "    }\n",
              "\n",
              "    .dataframe tbody tr th {\n",
              "        vertical-align: top;\n",
              "    }\n",
              "\n",
              "    .dataframe thead th {\n",
              "        text-align: right;\n",
              "    }\n",
              "</style>\n",
              "<table border=\"1\" class=\"dataframe\">\n",
              "  <thead>\n",
              "    <tr style=\"text-align: right;\">\n",
              "      <th></th>\n",
              "      <th>0</th>\n",
              "    </tr>\n",
              "  </thead>\n",
              "  <tbody>\n",
              "    <tr>\n",
              "      <th>PassengerId</th>\n",
              "      <td>0</td>\n",
              "    </tr>\n",
              "    <tr>\n",
              "      <th>Survived</th>\n",
              "      <td>0</td>\n",
              "    </tr>\n",
              "    <tr>\n",
              "      <th>Pclass</th>\n",
              "      <td>0</td>\n",
              "    </tr>\n",
              "    <tr>\n",
              "      <th>Name</th>\n",
              "      <td>0</td>\n",
              "    </tr>\n",
              "    <tr>\n",
              "      <th>Sex</th>\n",
              "      <td>0</td>\n",
              "    </tr>\n",
              "    <tr>\n",
              "      <th>Age</th>\n",
              "      <td>0</td>\n",
              "    </tr>\n",
              "    <tr>\n",
              "      <th>SibSp</th>\n",
              "      <td>0</td>\n",
              "    </tr>\n",
              "    <tr>\n",
              "      <th>Parch</th>\n",
              "      <td>0</td>\n",
              "    </tr>\n",
              "    <tr>\n",
              "      <th>Ticket</th>\n",
              "      <td>0</td>\n",
              "    </tr>\n",
              "    <tr>\n",
              "      <th>Fare</th>\n",
              "      <td>0</td>\n",
              "    </tr>\n",
              "    <tr>\n",
              "      <th>Embarked</th>\n",
              "      <td>0</td>\n",
              "    </tr>\n",
              "  </tbody>\n",
              "</table>\n",
              "</div><br><label><b>dtype:</b> int64</label>"
            ]
          },
          "metadata": {},
          "execution_count": 18
        }
      ]
    },
    {
      "cell_type": "markdown",
      "source": [
        "## Menentukan data target dan feature"
      ],
      "metadata": {
        "id": "jL4USjXqqEX8"
      }
    },
    {
      "cell_type": "code",
      "source": [
        "data.head()"
      ],
      "metadata": {
        "colab": {
          "base_uri": "https://localhost:8080/",
          "height": 206
        },
        "id": "cGEl74ivqJCX",
        "outputId": "b61e3d21-d553-4491-afef-b9c6c3ba724d"
      },
      "execution_count": 19,
      "outputs": [
        {
          "output_type": "execute_result",
          "data": {
            "text/plain": [
              "   PassengerId  Survived  Pclass  \\\n",
              "0            1         0       3   \n",
              "1            2         1       1   \n",
              "2            3         1       3   \n",
              "3            4         1       1   \n",
              "4            5         0       3   \n",
              "\n",
              "                                                Name     Sex   Age  SibSp  \\\n",
              "0                            Braund, Mr. Owen Harris    male  22.0      1   \n",
              "1  Cumings, Mrs. John Bradley (Florence Briggs Th...  female  38.0      1   \n",
              "2                             Heikkinen, Miss. Laina  female  26.0      0   \n",
              "3       Futrelle, Mrs. Jacques Heath (Lily May Peel)  female  35.0      1   \n",
              "4                           Allen, Mr. William Henry    male  35.0      0   \n",
              "\n",
              "   Parch            Ticket     Fare Embarked  \n",
              "0      0         A/5 21171   7.2500        S  \n",
              "1      0          PC 17599  71.2833        C  \n",
              "2      0  STON/O2. 3101282   7.9250        S  \n",
              "3      0            113803  53.1000        S  \n",
              "4      0            373450   8.0500        S  "
            ],
            "text/html": [
              "\n",
              "  <div id=\"df-65281d53-832a-4645-b3e2-cfa38da664c2\" class=\"colab-df-container\">\n",
              "    <div>\n",
              "<style scoped>\n",
              "    .dataframe tbody tr th:only-of-type {\n",
              "        vertical-align: middle;\n",
              "    }\n",
              "\n",
              "    .dataframe tbody tr th {\n",
              "        vertical-align: top;\n",
              "    }\n",
              "\n",
              "    .dataframe thead th {\n",
              "        text-align: right;\n",
              "    }\n",
              "</style>\n",
              "<table border=\"1\" class=\"dataframe\">\n",
              "  <thead>\n",
              "    <tr style=\"text-align: right;\">\n",
              "      <th></th>\n",
              "      <th>PassengerId</th>\n",
              "      <th>Survived</th>\n",
              "      <th>Pclass</th>\n",
              "      <th>Name</th>\n",
              "      <th>Sex</th>\n",
              "      <th>Age</th>\n",
              "      <th>SibSp</th>\n",
              "      <th>Parch</th>\n",
              "      <th>Ticket</th>\n",
              "      <th>Fare</th>\n",
              "      <th>Embarked</th>\n",
              "    </tr>\n",
              "  </thead>\n",
              "  <tbody>\n",
              "    <tr>\n",
              "      <th>0</th>\n",
              "      <td>1</td>\n",
              "      <td>0</td>\n",
              "      <td>3</td>\n",
              "      <td>Braund, Mr. Owen Harris</td>\n",
              "      <td>male</td>\n",
              "      <td>22.0</td>\n",
              "      <td>1</td>\n",
              "      <td>0</td>\n",
              "      <td>A/5 21171</td>\n",
              "      <td>7.2500</td>\n",
              "      <td>S</td>\n",
              "    </tr>\n",
              "    <tr>\n",
              "      <th>1</th>\n",
              "      <td>2</td>\n",
              "      <td>1</td>\n",
              "      <td>1</td>\n",
              "      <td>Cumings, Mrs. John Bradley (Florence Briggs Th...</td>\n",
              "      <td>female</td>\n",
              "      <td>38.0</td>\n",
              "      <td>1</td>\n",
              "      <td>0</td>\n",
              "      <td>PC 17599</td>\n",
              "      <td>71.2833</td>\n",
              "      <td>C</td>\n",
              "    </tr>\n",
              "    <tr>\n",
              "      <th>2</th>\n",
              "      <td>3</td>\n",
              "      <td>1</td>\n",
              "      <td>3</td>\n",
              "      <td>Heikkinen, Miss. Laina</td>\n",
              "      <td>female</td>\n",
              "      <td>26.0</td>\n",
              "      <td>0</td>\n",
              "      <td>0</td>\n",
              "      <td>STON/O2. 3101282</td>\n",
              "      <td>7.9250</td>\n",
              "      <td>S</td>\n",
              "    </tr>\n",
              "    <tr>\n",
              "      <th>3</th>\n",
              "      <td>4</td>\n",
              "      <td>1</td>\n",
              "      <td>1</td>\n",
              "      <td>Futrelle, Mrs. Jacques Heath (Lily May Peel)</td>\n",
              "      <td>female</td>\n",
              "      <td>35.0</td>\n",
              "      <td>1</td>\n",
              "      <td>0</td>\n",
              "      <td>113803</td>\n",
              "      <td>53.1000</td>\n",
              "      <td>S</td>\n",
              "    </tr>\n",
              "    <tr>\n",
              "      <th>4</th>\n",
              "      <td>5</td>\n",
              "      <td>0</td>\n",
              "      <td>3</td>\n",
              "      <td>Allen, Mr. William Henry</td>\n",
              "      <td>male</td>\n",
              "      <td>35.0</td>\n",
              "      <td>0</td>\n",
              "      <td>0</td>\n",
              "      <td>373450</td>\n",
              "      <td>8.0500</td>\n",
              "      <td>S</td>\n",
              "    </tr>\n",
              "  </tbody>\n",
              "</table>\n",
              "</div>\n",
              "    <div class=\"colab-df-buttons\">\n",
              "\n",
              "  <div class=\"colab-df-container\">\n",
              "    <button class=\"colab-df-convert\" onclick=\"convertToInteractive('df-65281d53-832a-4645-b3e2-cfa38da664c2')\"\n",
              "            title=\"Convert this dataframe to an interactive table.\"\n",
              "            style=\"display:none;\">\n",
              "\n",
              "  <svg xmlns=\"http://www.w3.org/2000/svg\" height=\"24px\" viewBox=\"0 -960 960 960\">\n",
              "    <path d=\"M120-120v-720h720v720H120Zm60-500h600v-160H180v160Zm220 220h160v-160H400v160Zm0 220h160v-160H400v160ZM180-400h160v-160H180v160Zm440 0h160v-160H620v160ZM180-180h160v-160H180v160Zm440 0h160v-160H620v160Z\"/>\n",
              "  </svg>\n",
              "    </button>\n",
              "\n",
              "  <style>\n",
              "    .colab-df-container {\n",
              "      display:flex;\n",
              "      gap: 12px;\n",
              "    }\n",
              "\n",
              "    .colab-df-convert {\n",
              "      background-color: #E8F0FE;\n",
              "      border: none;\n",
              "      border-radius: 50%;\n",
              "      cursor: pointer;\n",
              "      display: none;\n",
              "      fill: #1967D2;\n",
              "      height: 32px;\n",
              "      padding: 0 0 0 0;\n",
              "      width: 32px;\n",
              "    }\n",
              "\n",
              "    .colab-df-convert:hover {\n",
              "      background-color: #E2EBFA;\n",
              "      box-shadow: 0px 1px 2px rgba(60, 64, 67, 0.3), 0px 1px 3px 1px rgba(60, 64, 67, 0.15);\n",
              "      fill: #174EA6;\n",
              "    }\n",
              "\n",
              "    .colab-df-buttons div {\n",
              "      margin-bottom: 4px;\n",
              "    }\n",
              "\n",
              "    [theme=dark] .colab-df-convert {\n",
              "      background-color: #3B4455;\n",
              "      fill: #D2E3FC;\n",
              "    }\n",
              "\n",
              "    [theme=dark] .colab-df-convert:hover {\n",
              "      background-color: #434B5C;\n",
              "      box-shadow: 0px 1px 3px 1px rgba(0, 0, 0, 0.15);\n",
              "      filter: drop-shadow(0px 1px 2px rgba(0, 0, 0, 0.3));\n",
              "      fill: #FFFFFF;\n",
              "    }\n",
              "  </style>\n",
              "\n",
              "    <script>\n",
              "      const buttonEl =\n",
              "        document.querySelector('#df-65281d53-832a-4645-b3e2-cfa38da664c2 button.colab-df-convert');\n",
              "      buttonEl.style.display =\n",
              "        google.colab.kernel.accessAllowed ? 'block' : 'none';\n",
              "\n",
              "      async function convertToInteractive(key) {\n",
              "        const element = document.querySelector('#df-65281d53-832a-4645-b3e2-cfa38da664c2');\n",
              "        const dataTable =\n",
              "          await google.colab.kernel.invokeFunction('convertToInteractive',\n",
              "                                                    [key], {});\n",
              "        if (!dataTable) return;\n",
              "\n",
              "        const docLinkHtml = 'Like what you see? Visit the ' +\n",
              "          '<a target=\"_blank\" href=https://colab.research.google.com/notebooks/data_table.ipynb>data table notebook</a>'\n",
              "          + ' to learn more about interactive tables.';\n",
              "        element.innerHTML = '';\n",
              "        dataTable['output_type'] = 'display_data';\n",
              "        await google.colab.output.renderOutput(dataTable, element);\n",
              "        const docLink = document.createElement('div');\n",
              "        docLink.innerHTML = docLinkHtml;\n",
              "        element.appendChild(docLink);\n",
              "      }\n",
              "    </script>\n",
              "  </div>\n",
              "\n",
              "\n",
              "<div id=\"df-3176dd5c-5476-4508-9114-a1a4b013b545\">\n",
              "  <button class=\"colab-df-quickchart\" onclick=\"quickchart('df-3176dd5c-5476-4508-9114-a1a4b013b545')\"\n",
              "            title=\"Suggest charts\"\n",
              "            style=\"display:none;\">\n",
              "\n",
              "<svg xmlns=\"http://www.w3.org/2000/svg\" height=\"24px\"viewBox=\"0 0 24 24\"\n",
              "     width=\"24px\">\n",
              "    <g>\n",
              "        <path d=\"M19 3H5c-1.1 0-2 .9-2 2v14c0 1.1.9 2 2 2h14c1.1 0 2-.9 2-2V5c0-1.1-.9-2-2-2zM9 17H7v-7h2v7zm4 0h-2V7h2v10zm4 0h-2v-4h2v4z\"/>\n",
              "    </g>\n",
              "</svg>\n",
              "  </button>\n",
              "\n",
              "<style>\n",
              "  .colab-df-quickchart {\n",
              "      --bg-color: #E8F0FE;\n",
              "      --fill-color: #1967D2;\n",
              "      --hover-bg-color: #E2EBFA;\n",
              "      --hover-fill-color: #174EA6;\n",
              "      --disabled-fill-color: #AAA;\n",
              "      --disabled-bg-color: #DDD;\n",
              "  }\n",
              "\n",
              "  [theme=dark] .colab-df-quickchart {\n",
              "      --bg-color: #3B4455;\n",
              "      --fill-color: #D2E3FC;\n",
              "      --hover-bg-color: #434B5C;\n",
              "      --hover-fill-color: #FFFFFF;\n",
              "      --disabled-bg-color: #3B4455;\n",
              "      --disabled-fill-color: #666;\n",
              "  }\n",
              "\n",
              "  .colab-df-quickchart {\n",
              "    background-color: var(--bg-color);\n",
              "    border: none;\n",
              "    border-radius: 50%;\n",
              "    cursor: pointer;\n",
              "    display: none;\n",
              "    fill: var(--fill-color);\n",
              "    height: 32px;\n",
              "    padding: 0;\n",
              "    width: 32px;\n",
              "  }\n",
              "\n",
              "  .colab-df-quickchart:hover {\n",
              "    background-color: var(--hover-bg-color);\n",
              "    box-shadow: 0 1px 2px rgba(60, 64, 67, 0.3), 0 1px 3px 1px rgba(60, 64, 67, 0.15);\n",
              "    fill: var(--button-hover-fill-color);\n",
              "  }\n",
              "\n",
              "  .colab-df-quickchart-complete:disabled,\n",
              "  .colab-df-quickchart-complete:disabled:hover {\n",
              "    background-color: var(--disabled-bg-color);\n",
              "    fill: var(--disabled-fill-color);\n",
              "    box-shadow: none;\n",
              "  }\n",
              "\n",
              "  .colab-df-spinner {\n",
              "    border: 2px solid var(--fill-color);\n",
              "    border-color: transparent;\n",
              "    border-bottom-color: var(--fill-color);\n",
              "    animation:\n",
              "      spin 1s steps(1) infinite;\n",
              "  }\n",
              "\n",
              "  @keyframes spin {\n",
              "    0% {\n",
              "      border-color: transparent;\n",
              "      border-bottom-color: var(--fill-color);\n",
              "      border-left-color: var(--fill-color);\n",
              "    }\n",
              "    20% {\n",
              "      border-color: transparent;\n",
              "      border-left-color: var(--fill-color);\n",
              "      border-top-color: var(--fill-color);\n",
              "    }\n",
              "    30% {\n",
              "      border-color: transparent;\n",
              "      border-left-color: var(--fill-color);\n",
              "      border-top-color: var(--fill-color);\n",
              "      border-right-color: var(--fill-color);\n",
              "    }\n",
              "    40% {\n",
              "      border-color: transparent;\n",
              "      border-right-color: var(--fill-color);\n",
              "      border-top-color: var(--fill-color);\n",
              "    }\n",
              "    60% {\n",
              "      border-color: transparent;\n",
              "      border-right-color: var(--fill-color);\n",
              "    }\n",
              "    80% {\n",
              "      border-color: transparent;\n",
              "      border-right-color: var(--fill-color);\n",
              "      border-bottom-color: var(--fill-color);\n",
              "    }\n",
              "    90% {\n",
              "      border-color: transparent;\n",
              "      border-bottom-color: var(--fill-color);\n",
              "    }\n",
              "  }\n",
              "</style>\n",
              "\n",
              "  <script>\n",
              "    async function quickchart(key) {\n",
              "      const quickchartButtonEl =\n",
              "        document.querySelector('#' + key + ' button');\n",
              "      quickchartButtonEl.disabled = true;  // To prevent multiple clicks.\n",
              "      quickchartButtonEl.classList.add('colab-df-spinner');\n",
              "      try {\n",
              "        const charts = await google.colab.kernel.invokeFunction(\n",
              "            'suggestCharts', [key], {});\n",
              "      } catch (error) {\n",
              "        console.error('Error during call to suggestCharts:', error);\n",
              "      }\n",
              "      quickchartButtonEl.classList.remove('colab-df-spinner');\n",
              "      quickchartButtonEl.classList.add('colab-df-quickchart-complete');\n",
              "    }\n",
              "    (() => {\n",
              "      let quickchartButtonEl =\n",
              "        document.querySelector('#df-3176dd5c-5476-4508-9114-a1a4b013b545 button');\n",
              "      quickchartButtonEl.style.display =\n",
              "        google.colab.kernel.accessAllowed ? 'block' : 'none';\n",
              "    })();\n",
              "  </script>\n",
              "</div>\n",
              "\n",
              "    </div>\n",
              "  </div>\n"
            ],
            "application/vnd.google.colaboratory.intrinsic+json": {
              "type": "dataframe",
              "variable_name": "data",
              "summary": "{\n  \"name\": \"data\",\n  \"rows\": 891,\n  \"fields\": [\n    {\n      \"column\": \"PassengerId\",\n      \"properties\": {\n        \"dtype\": \"number\",\n        \"std\": 257,\n        \"min\": 1,\n        \"max\": 891,\n        \"num_unique_values\": 891,\n        \"samples\": [\n          710,\n          440,\n          841\n        ],\n        \"semantic_type\": \"\",\n        \"description\": \"\"\n      }\n    },\n    {\n      \"column\": \"Survived\",\n      \"properties\": {\n        \"dtype\": \"number\",\n        \"std\": 0,\n        \"min\": 0,\n        \"max\": 1,\n        \"num_unique_values\": 2,\n        \"samples\": [\n          1,\n          0\n        ],\n        \"semantic_type\": \"\",\n        \"description\": \"\"\n      }\n    },\n    {\n      \"column\": \"Pclass\",\n      \"properties\": {\n        \"dtype\": \"number\",\n        \"std\": 0,\n        \"min\": 1,\n        \"max\": 3,\n        \"num_unique_values\": 3,\n        \"samples\": [\n          3,\n          1\n        ],\n        \"semantic_type\": \"\",\n        \"description\": \"\"\n      }\n    },\n    {\n      \"column\": \"Name\",\n      \"properties\": {\n        \"dtype\": \"string\",\n        \"num_unique_values\": 891,\n        \"samples\": [\n          \"Moubarek, Master. Halim Gonios (\\\"William George\\\")\",\n          \"Kvillner, Mr. Johan Henrik Johannesson\"\n        ],\n        \"semantic_type\": \"\",\n        \"description\": \"\"\n      }\n    },\n    {\n      \"column\": \"Sex\",\n      \"properties\": {\n        \"dtype\": \"category\",\n        \"num_unique_values\": 2,\n        \"samples\": [\n          \"female\",\n          \"male\"\n        ],\n        \"semantic_type\": \"\",\n        \"description\": \"\"\n      }\n    },\n    {\n      \"column\": \"Age\",\n      \"properties\": {\n        \"dtype\": \"number\",\n        \"std\": 13.005010341761817,\n        \"min\": 0.42,\n        \"max\": 80.0,\n        \"num_unique_values\": 88,\n        \"samples\": [\n          0.75,\n          22.0\n        ],\n        \"semantic_type\": \"\",\n        \"description\": \"\"\n      }\n    },\n    {\n      \"column\": \"SibSp\",\n      \"properties\": {\n        \"dtype\": \"number\",\n        \"std\": 1,\n        \"min\": 0,\n        \"max\": 8,\n        \"num_unique_values\": 7,\n        \"samples\": [\n          1,\n          0\n        ],\n        \"semantic_type\": \"\",\n        \"description\": \"\"\n      }\n    },\n    {\n      \"column\": \"Parch\",\n      \"properties\": {\n        \"dtype\": \"number\",\n        \"std\": 0,\n        \"min\": 0,\n        \"max\": 6,\n        \"num_unique_values\": 7,\n        \"samples\": [\n          0,\n          1\n        ],\n        \"semantic_type\": \"\",\n        \"description\": \"\"\n      }\n    },\n    {\n      \"column\": \"Ticket\",\n      \"properties\": {\n        \"dtype\": \"string\",\n        \"num_unique_values\": 681,\n        \"samples\": [\n          \"11774\",\n          \"248740\"\n        ],\n        \"semantic_type\": \"\",\n        \"description\": \"\"\n      }\n    },\n    {\n      \"column\": \"Fare\",\n      \"properties\": {\n        \"dtype\": \"number\",\n        \"std\": 49.693428597180905,\n        \"min\": 0.0,\n        \"max\": 512.3292,\n        \"num_unique_values\": 248,\n        \"samples\": [\n          11.2417,\n          51.8625\n        ],\n        \"semantic_type\": \"\",\n        \"description\": \"\"\n      }\n    },\n    {\n      \"column\": \"Embarked\",\n      \"properties\": {\n        \"dtype\": \"category\",\n        \"num_unique_values\": 3,\n        \"samples\": [\n          \"S\",\n          \"C\"\n        ],\n        \"semantic_type\": \"\",\n        \"description\": \"\"\n      }\n    }\n  ]\n}"
            }
          },
          "metadata": {},
          "execution_count": 19
        }
      ]
    },
    {
      "cell_type": "code",
      "source": [
        "#target :Survived\n",
        "#features : Pclass, Sex, Age, SibSp, Parch, Fare, Embarked"
      ],
      "metadata": {
        "id": "2b3oqHgtrF6z"
      },
      "execution_count": null,
      "outputs": []
    },
    {
      "cell_type": "markdown",
      "source": [
        "## Analisa data Target"
      ],
      "metadata": {
        "id": "VJIvlJMBrVKO"
      }
    },
    {
      "cell_type": "code",
      "source": [
        "data.Survived.value_counts()"
      ],
      "metadata": {
        "colab": {
          "base_uri": "https://localhost:8080/",
          "height": 178
        },
        "id": "zmU-PD6OrXkT",
        "outputId": "e146762d-d747-4f9b-8764-310e8e5a2c26"
      },
      "execution_count": 20,
      "outputs": [
        {
          "output_type": "execute_result",
          "data": {
            "text/plain": [
              "Survived\n",
              "0    549\n",
              "1    342\n",
              "Name: count, dtype: int64"
            ],
            "text/html": [
              "<div>\n",
              "<style scoped>\n",
              "    .dataframe tbody tr th:only-of-type {\n",
              "        vertical-align: middle;\n",
              "    }\n",
              "\n",
              "    .dataframe tbody tr th {\n",
              "        vertical-align: top;\n",
              "    }\n",
              "\n",
              "    .dataframe thead th {\n",
              "        text-align: right;\n",
              "    }\n",
              "</style>\n",
              "<table border=\"1\" class=\"dataframe\">\n",
              "  <thead>\n",
              "    <tr style=\"text-align: right;\">\n",
              "      <th></th>\n",
              "      <th>count</th>\n",
              "    </tr>\n",
              "    <tr>\n",
              "      <th>Survived</th>\n",
              "      <th></th>\n",
              "    </tr>\n",
              "  </thead>\n",
              "  <tbody>\n",
              "    <tr>\n",
              "      <th>0</th>\n",
              "      <td>549</td>\n",
              "    </tr>\n",
              "    <tr>\n",
              "      <th>1</th>\n",
              "      <td>342</td>\n",
              "    </tr>\n",
              "  </tbody>\n",
              "</table>\n",
              "</div><br><label><b>dtype:</b> int64</label>"
            ]
          },
          "metadata": {},
          "execution_count": 20
        }
      ]
    },
    {
      "cell_type": "markdown",
      "source": [
        "## Target vs Numeric (Age)"
      ],
      "metadata": {
        "id": "UiDzOfD0rsec"
      }
    },
    {
      "cell_type": "code",
      "source": [
        "import matplotlib.pyplot as plt\n",
        "import seaborn as sns"
      ],
      "metadata": {
        "id": "CoIjfgiTruin"
      },
      "execution_count": 21,
      "outputs": []
    },
    {
      "cell_type": "code",
      "source": [
        "sns.histplot(data.Age[data.Survived==0], bins=[0,12,20,40,90], color='red', label='Tidak selamat',kde=True)\n",
        "sns.histplot(data.Age[data.Survived==1], bins=[0,12,20,40,90], color='green', label='Selamat',kde=True);"
      ],
      "metadata": {
        "colab": {
          "base_uri": "https://localhost:8080/",
          "height": 449
        },
        "id": "Eg_uoyTir_4H",
        "outputId": "f8ceb36b-3705-46b1-b9af-aa9d62c34326"
      },
      "execution_count": 24,
      "outputs": [
        {
          "output_type": "display_data",
          "data": {
            "text/plain": [
              "<Figure size 640x480 with 1 Axes>"
            ],
            "image/png": "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\n"
          },
          "metadata": {}
        }
      ]
    },
    {
      "cell_type": "markdown",
      "source": [
        "## Target vs Numeric (Fare)"
      ],
      "metadata": {
        "id": "d2W3OQ5BtTjU"
      }
    },
    {
      "cell_type": "code",
      "source": [
        "plt.figure(figsize=(8,5))\n",
        "sns.histplot(data.Fare[data.Survived==0], bins=20,color='red', label='Tidak selamat', kde=True)\n",
        "sns.histplot(data.Fare[data.Survived==1], bins=20,color='green', label='Selamat', kde=True)"
      ],
      "metadata": {
        "colab": {
          "base_uri": "https://localhost:8080/",
          "height": 482
        },
        "id": "gsDsegrEtVly",
        "outputId": "fec19df3-0de7-46e2-b97c-c612d17d3caf"
      },
      "execution_count": 26,
      "outputs": [
        {
          "output_type": "execute_result",
          "data": {
            "text/plain": [
              "<Axes: xlabel='Fare', ylabel='Count'>"
            ]
          },
          "metadata": {},
          "execution_count": 26
        },
        {
          "output_type": "display_data",
          "data": {
            "text/plain": [
              "<Figure size 800x500 with 1 Axes>"
            ],
            "image/png": "iVBORw0KGgoAAAANSUhEUgAAArcAAAHACAYAAAC4UkCTAAAAOXRFWHRTb2Z0d2FyZQBNYXRwbG90bGliIHZlcnNpb24zLjguMCwgaHR0cHM6Ly9tYXRwbG90bGliLm9yZy81sbWrAAAACXBIWXMAAA9hAAAPYQGoP6dpAABVyUlEQVR4nO3deXxU9b3/8ddkJjPZN0IWCGGRfUfWuBUFWQSrQlu14FarVwu9Vby1pbVutdLaVm0tlXqr4m21WvuTVlFRFokLYQsgOwICYclKlsk66/n9MWQkEiAJk0wyeT99nMecOcv3fE6O6Dtfvucck2EYBiIiIiIiISAs2AWIiIiIiASKwq2IiIiIhAyFWxEREREJGQq3IiIiIhIyFG5FREREJGQo3IqIiIhIyFC4FREREZGQoXArIiIiIiHDEuwC2gOv18uJEyeIjY3FZDIFuxwRERER+RrDMKisrKRbt26EhZ29f1bhFjhx4gQ9evQIdhkiIiIich5Hjx4lIyPjrOsVboHY2FjA98OKi4sLcjUiIiIi8nV2u50ePXr4c9vZKNyCfyhCXFycwq2IiIhIO3a+IaS6oUxEREREQobCrYiIiIiEDIVbEREREQkZCrciIiIiEjIUbkVEREQkZCjcioiIiEjIULgVERERkZChcCsiIiIiIUPhVkRERERChsKtiIiIiIQMhVsRERERCRkKtyIiIiISMhRuRURERCRkKNyKiIiISMiwBLuAziovL4+SkpJm75ecnExmZmYrVCQiIiLS8SncBkFeXh6DBg6kpra22ftGRUayZ+9eBVwRERGRRijcBkFJSQk1tbX8/YYbGNS1a5P321NczNxlyygpKVG4FREREWmEwm0QDeralYvT04NdhoiIiEjI0A1lIiIiIhIyFG5FREREJGQo3IqIiIhIyFC4FREREZGQoXArIiIiIiFD4VZEREREQobCrYiIiIiEDIVbEREREQkZCrciIiIiEjIUbkVEREQkZCjcioiIiEjIULgVERERkZChcCsiIiIiIUPhVkRERERChsKtiIiIiIQMhVsRERERCRkKtyIiIiISMhRuRURERCRkBDXcPv/88wwfPpy4uDji4uLIysri/fff96+vq6tj3rx5dOnShZiYGGbPnk1hYWGDNvLy8pgxYwZRUVGkpKTw4x//GLfb3danIiIiIiLtQFDDbUZGBr/+9a/Jzc1l8+bNXHXVVVx33XXs2rULgPvvv5933nmHN998k+zsbE6cOMGsWbP8+3s8HmbMmIHT6WTdunW88sorLF26lIcffjhYpyQiIiIiQWQJ5sGvvfbaBt9/9atf8fzzz7N+/XoyMjJ48cUXee2117jqqqsAePnllxk0aBDr169nwoQJfPjhh+zevZtVq1aRmprKyJEj+eUvf8lPfvITHn30UaxWazBOS0RERESCpN2MufV4PLz++utUV1eTlZVFbm4uLpeLyZMn+7cZOHAgmZmZ5OTkAJCTk8OwYcNITU31bzN16lTsdru/97cxDocDu93eYBIRERGRji/o4XbHjh3ExMRgs9m45557WLZsGYMHD6agoACr1UpCQkKD7VNTUykoKACgoKCgQbCtX1+/7mwWLVpEfHy8f+rRo0dgT0pEREREgiLo4XbAgAFs27aNDRs2cO+993Lbbbexe/fuVj3mwoULqaio8E9Hjx5t1eOJiIiISNsI6phbAKvVSt++fQEYPXo0mzZt4g9/+AM33ngjTqeT8vLyBr23hYWFpKWlAZCWlsbGjRsbtFf/NIX6bRpjs9mw2WwBPhMRERERCbag99x+ndfrxeFwMHr0aMLDw1m9erV/3b59+8jLyyMrKwuArKwsduzYQVFRkX+blStXEhcXx+DBg9u8dhEREREJrqD23C5cuJDp06eTmZlJZWUlr732GmvXruWDDz4gPj6eO++8kwULFpCUlERcXBw//OEPycrKYsKECQBMmTKFwYMHc8stt/DUU09RUFDAQw89xLx589QzKyIiItIJBTXcFhUVceutt5Kfn098fDzDhw/ngw8+4OqrrwbgmWeeISwsjNmzZ+NwOJg6dSp//vOf/fubzWaWL1/OvffeS1ZWFtHR0dx22208/vjjwTolEREREQmioIbbF1988ZzrIyIiWLx4MYsXLz7rNj179uS9994LdGkiIiIi0gG1uzG3IiIiIiItpXArIiIiIiFD4VZEREREQobCrYiIiIiEDIVbEREREQkZCrciIiIiEjIUbkVEREQkZCjcioiIiEjIULgVERERkZChcCsiIiIiIUPhVkRERERChsKtiIiIiIQMhVsRERERCRkKtyIiIiISMhRuRURERCRkKNyKiIiISMhQuBURERGRkKFwKyIiIiIhQ+FWREREREKGwq2IiIiIhAyFWxEREREJGQq3IiIiIhIyFG5FREREJGQo3IqIiIhIyFC4FREREZGQoXArIiIiIiFD4VZEREREQobCrYiIiIiEDIVbEREREQkZCrciIiIiEjIUbkVEREQkZCjcioiIiEjIULgVERERkZChcCsiIiIiIUPhVkRERERChsKtiIiIiIQMhVsRERERCRkKtyIiIiISMhRuRURERCRkKNyKiIiISMhQuBURERGRkKFwKyIiIiIhQ+FWREREREKGwq2IiIiIhAyFWxEREREJGQq3IiIiIhIyghpuFy1axNixY4mNjSUlJYXrr7+effv2Ndhm4sSJmEymBtM999zTYJu8vDxmzJhBVFQUKSkp/PjHP8btdrflqYiIiIhIO2AJ5sGzs7OZN28eY8eOxe1287Of/YwpU6awe/duoqOj/dvdddddPP744/7vUVFR/nmPx8OMGTNIS0tj3bp15Ofnc+uttxIeHs6TTz7ZpucjIiIiIsEV1HC7YsWKBt+XLl1KSkoKubm5XHHFFf7lUVFRpKWlNdrGhx9+yO7du1m1ahWpqamMHDmSX/7yl/zkJz/h0UcfxWq1tuo5iIiIiEj70a7G3FZUVACQlJTUYPmrr75KcnIyQ4cOZeHChdTU1PjX5eTkMGzYMFJTU/3Lpk6dit1uZ9euXY0ex+FwYLfbG0wiIiIi0vEFtef2dF6vl/vuu49LL72UoUOH+pd/97vfpWfPnnTr1o3t27fzk5/8hH379vHWW28BUFBQ0CDYAv7vBQUFjR5r0aJFPPbYY610JiIiIiISLO0m3M6bN4+dO3fy6aefNlh+9913++eHDRtGeno6kyZN4uDBg1x00UUtOtbChQtZsGCB/7vdbqdHjx4tK1xERERE2o12MSxh/vz5LF++nI8++oiMjIxzbjt+/HgADhw4AEBaWhqFhYUNtqn/frZxujabjbi4uAaTiIiIiHR8QQ23hmEwf/58li1bxpo1a+jdu/d599m2bRsA6enpAGRlZbFjxw6Kior826xcuZK4uDgGDx7cKnWLiIiISPsU1GEJ8+bN47XXXuM///kPsbGx/jGy8fHxREZGcvDgQV577TWuueYaunTpwvbt27n//vu54oorGD58OABTpkxh8ODB3HLLLTz11FMUFBTw0EMPMW/ePGw2WzBPT0RERETaWFB7bp9//nkqKiqYOHEi6enp/umNN94AwGq1smrVKqZMmcLAgQN54IEHmD17Nu+8846/DbPZzPLlyzGbzWRlZTF37lxuvfXWBs/FFREREZHOIag9t4ZhnHN9jx49yM7OPm87PXv25L333gtUWSIiIiLSQbWLG8pERERERAJB4VZEREREQobCrYiIiIiEDIVbEREREQkZCrciIiIiEjIUbkVEREQkZCjcioiIiEjIULgVERERkZChcCsiIiIiIUPhVkRERERChsKtiIiIiIQMhVsRERERCRkKtyIiIiISMhRuRURERCRkKNyKiIiISMhQuBURERGRkKFwKyIiIiIhQ+FWREREREKGwq2IiIiIhAyFWxEREREJGQq3IiIiIhIyFG5FREREJGQo3IqIiIhIyFC4FREREZGQoXArIiIiIiFD4VZEREREQobCrYiIiIiEDIVbEREREQkZCrciIiIiEjIUbkVEREQkZCjctneVlXD0KBhGsCsRERERafcswS5AzsIw4NVX4eBB3/fJk6FPn+DWJCIiItLOqee2vTp27KtgC7BhA3i9watHREREpANQuG2vdu3yfQ4eDNHRUFlJwuHDQS1JREREpL1TuG2PDAP27PHNDxsGF18MQNf6wCsiIiIijVK4bY+OHQO7HaxW6NsXRo8GICY/n9gglyYiIiLSninctkcHDvg++/cHiwXi4yE+HhMwOqiFiYiIiLRvCrftUVGR77N796+WnZofF4RyRERERDoKhdv2qLDQ95ma+tUyhVsRERGR81K4bW+cTigr882npHy1XOFWRERE5LwUbtub4mLfZ3S0b6qXno5hMtEDCK/fRkREREQaULhtb+rH257eawtgtVKXmAhA1M6dbVyUiIiISMegcNve1I+3/Xq4BWqSkwGIPP3NZSIiIiLip3Db3tQPOWgk3NbFxwNgO3KkLSsSERER6TAUbtubsw1LABwJCQBEKNyKiIiINErhtj1xuaCqyjffpcsZqxv03BpGW1YmIiIi0iEENdwuWrSIsWPHEhsbS0pKCtdffz379u1rsE1dXR3z5s2jS5cuxMTEMHv2bArrx6WekpeXx4wZM4iKiiIlJYUf//jHuN3utjyVwKio8H1arRARccZqR1wcXsBSVfXV8AURERER8QtquM3OzmbevHmsX7+elStX4nK5mDJlCtXV1f5t7r//ft555x3efPNNsrOzOXHiBLNmzfKv93g8zJgxA6fTybp163jllVdYunQpDz/8cDBO6cKUl/s+ExLAZDpjtWGx4B+Q8MUXbVSUiIiISMdhCebBV6xY0eD70qVLSUlJITc3lyuuuIKKigpefPFFXnvtNa666ioAXn75ZQYNGsT69euZMGECH374Ibt372bVqlWkpqYycuRIfvnLX/KTn/yERx99FKvVGoxTa5n6nttTww8a8wXQG2DfPrjssraoSkRERKTDaFdjbitOhbukpCQAcnNzcblcTJ482b/NwIEDyczMJCcnB4CcnByGDRtG6mmvqp06dSp2u51du3Y1ehyHw4Hdbm8wtQv1PbfnCLf+QRvquRURERE5Q7sJt16vl/vuu49LL72UoUOHAlBQUIDVaiXh1FMC6qWmplJQUODf5vRgW7++fl1jFi1aRHx8vH/q0aNHgM+mhep7br92vqfzR1qFWxEREZEztJtwO2/ePHbu3Mnrr7/e6sdauHAhFRUV/uno0aOtfswmaeKwBMA3LEFEREREGgjqmNt68+fPZ/ny5Xz88cdkZGT4l6elpeF0OikvL2/Qe1tYWEhaWpp/m40bNzZor/5pCvXbfJ3NZsNmswX4LALg9BvKzsL/brLDh32PA2vkxjMRERGRziqoPbeGYTB//nyWLVvGmjVr6N27d4P1o0ePJjw8nNWrV/uX7du3j7y8PLKysgDIyspix44dFNW//ABYuXIlcXFxDB48uG1OJBA8Hqis9M2fo+f2KGCYTFBbq8eBiYiIiHxNUHtu582bx2uvvcZ//vMfYmNj/WNk4+PjiYyMJD4+njvvvJMFCxaQlJREXFwcP/zhD8nKymLChAkATJkyhcGDB3PLLbfw1FNPUVBQwEMPPcS8efPaZ+/s2djtvp5YsxliYs66mQtwde2KtagIjhxp9E1mIiIiIp1VUHtun3/+eSoqKpg4cSLp6en+6Y033vBv88wzzzBz5kxmz57NFVdcQVpaGm+99ZZ/vdlsZvny5ZjNZrKyspg7dy633norjz/+eDBOqeVOH297nqEGzvR038zhw61bk4iIiEgHE9SeW6MJr5CNiIhg8eLFLF68+Kzb9OzZk/feey+QpbW9JtxMVs+Zlgaff+7ruRURERERv3bztIROr368bVzceTd1duvmm1G4FREREWlA4ba9qA+35xhvW0/DEkREREQap3DbXlRX+z6bE27VcysiIiLSgMJte9GMnlvH6T23TRi3LCIiItJZKNy2F1VVvs+m9NzWv5yisvKrFz+IiIiIiMJtu1EfbmNjz7upERkJXbv6vmhogoiIiIifwm174HT6JmhSzy0AvXr5PnVTmYiIiIifwm17UN9rGx4OVmvT9snI8H0eP946NYmIiIh0QAq37cHp423P83Yyv+7dfZ/HjrVOTSIiIiIdkMJte9CMm8n81HMrIiIicoYWhds+ffpw8uTJM5aXl5fTp0+fCy6q06l/DFgTbibzq++5VbgVERER8WtRuD18+DAej+eM5Q6Hg+MKW81X33MbHd30fRRuRURERM5gac7Gb7/9tn/+gw8+ID4+3v/d4/GwevVqetXfxS9N14zHgPmdPubWMJo+VldEREQkhDUr3F5//fUAmEwmbrvttgbrwsPD6dWrF7///e8DVlyn0ZIxt/Xhtroa7HY47RcNERERkc6qWeHW6/UC0Lt3bzZt2kRycnKrFNXptCTcRkdDQoLvDWXHjyvcioiIiNDCMbeHDh1SsA2k6mrfZ3PG3IIeByYiIiLyNc3quT3d6tWrWb16NUVFRf4e3XovvfTSBRfWaRjGhYXbXbt0U5mIiIjIKS0Kt4899hiPP/44Y8aMIT09HZNuZmo5hwPqfzlobrjVs25FREREGmhRuF2yZAlLly7llltuCXQ9nU99r63VCpZmXg49DkxERESkgRaNuXU6nVxyySWBrqVzqqnxfUZFNX9fjbkVERERaaBF4fb73/8+r732WqBr6ZxaOt4W1HMrIiIi8jUtGpZQV1fHCy+8wKpVqxg+fDjh4eEN1j/99NMBKa5TuJCeW425FREREWmgReF2+/btjBw5EoCdO3c2WKeby5opED23RUXgdPrG7YqIiIh0Yi0Ktx999FGg6+i8LqTnNjnZF2idTjhxAvTqYxEREenkWjTmVgKovue2JeHWZNK4WxEREZHTtKjn9sorrzzn8IM1a9a0uKBOp77ntiXDEsAXbg8dUrgVERERoYXhtn68bT2Xy8W2bdvYuXMnt912WyDq6jwuZMwt6HFgIiIiIqdpUbh95plnGl3+6KOPUlVVdUEFdToXMuYWNCxBRERE5DQBHXM7d+5cXnrppUA2GdoM48J7bvU4MBERERG/gIbbnJwcIiIiAtlkSAtzucDj8X1Rz62IiIjIBWvRsIRZs2Y1+G4YBvn5+WzevJlf/OIXASmsM7DU1Z2asbT8GbUacysiIiLi16JwGx8f3+B7WFgYAwYM4PHHH2fKlCkBKawz8Ifblg5JgK/C7YkTvmEOeomGiIiIdGItCrcvv/xyoOvolCy1tb6Zlg5JAOjWzffpdEJJCXTteuGFiYiIiHRQLQq39XJzc9mzZw8AQ4YMYdSoUQEpqrOwOBy+mQsJt1YrpKT4XsF77JjCrYiIiHRqLQq3RUVF3HTTTaxdu5aEhAQAysvLufLKK3n99dfpqoDVJP5hCZGRF9ZQ9+6+cHviBOgXDBEREenEWvS0hB/+8IdUVlaya9cuSktLKS0tZefOndjtdv77v/870DWGrICGW9ATE0RERKTTa1HP7YoVK1i1ahWDBg3yLxs8eDCLFy/WDWXNYA7EsAT4atytwq2IiIh0ci3qufV6vYSHh5+xPDw8HK/Xe8FFdRYB77k9ceLC2hERERHp4FrUc3vVVVfxox/9iH/84x90O9VrePz4ce6//34mTZoU0AJDmePUq4oPOZ2U5eefd/s9JSW+z1M38dXr4nbTE6jYs4eDW7Y0um9ycjKZmZkXVrCIiIhIO2cyDMNo7k5Hjx7lm9/8Jrt27aJHjx7+ZUOHDuXtt98mo/6VsB2E3W4nPj6eiooK4uLiWv147777LjNnzmQrMBKYBnxwAe1NA94HPj/VXmMioyLZu2evAq6IiIh0SE3Nay3que3Rowdbtmxh1apV7N27F4BBgwYxefLkllXbyZSXlwPQLcIMdR6uuH4APVPO/yKHkpoa3tqzl1mzZpGcnOxf3v3YSfjl/6NPTAR3//7WM/YrPlLMsieXUVJSonArIiIiIa1Z4XbNmjXMnz+f9evXExcXx9VXX83VV18NQEVFBUOGDGHJkiVcfvnlrVJsqIl3+cYnR2fGk57YhHG3VcAxSO6dTHp6un+xLdX3xrjYqjoyenXFY72gxxeLiIiIdFjNuqHs2Wef5a677mq0Kzg+Pp7/+q//4umnnw5YcaEsArB5fCNCaiLPvDmvOWrjInGHmwGILa260NJEREREOqxmhdvPP/+cadOmnXX9lClTyM3NveCiOoOkU59eEzhs5gtrzGSiMjkWgNhi+4W1JSIiItKBNSvcFhYWNvoIsHoWi4Xi4uILLqoz6HLqszYyHEymC26vsosv3MaVVF5wWyIiIiIdVbPCbffu3dm5c+dZ12/fvr3BWFA5u/pwWxN1YUMS6tmTfUNFYk8q3IqIiEjn1axwe8011/CLX/yCuvqXD5ymtraWRx55hJkzZza5vY8//phrr72Wbt26YTKZ+Pe//91g/e23347JZGowfX1YRGlpKXPmzCEuLo6EhATuvPNOqqra/7jTr3puA3Pzl39YQomGJYiIiEjn1axk9dBDD/HWW2/Rv39/5s+fz4ABAwDYu3cvixcvxuPx8POf/7zJ7VVXVzNixAi+973vMWvWrEa3mTZtGi+//LL/u81ma7B+zpw55Ofns3LlSlwuF3fccQd33303r732WnNOrc0Fuue2PtzGFavnVkRERDqvZoXb1NRU1q1bx7333svChQupf/+DyWRi6tSpLF68mNTU1Ca3N336dKZPn37ObWw2G2lpaY2u27NnDytWrGDTpk2MGTMGgOeee45rrrmG3/3ud/63p7VHDcbcBoC9vudWwxJERESkE2v234n37NmT9957j7KyMg4cOIBhGPTr14/ExMTWqI+1a9eSkpJCYmIiV111FU888QRduviiYU5ODgkJCf5gCzB58mTCwsLYsGEDN9xwQ6NtOhwOHA6H/7vd3vZ/lV//tISagA1LODXmVjeUiYiISCfW4mSVmJjI2LFjA1nLGaZNm8asWbPo3bs3Bw8e5Gc/+xnTp08nJycHs9lMQUEBKSkpDfaxWCwkJSVRUFBw1nYXLVrEY4891qq1n0+ge24rT++5NYyAPIFBREREpKNp16+yuummm/zzw4YNY/jw4Vx00UWsXbuWSZMmtbjdhQsXsmDBAv93u91Ojx49LqjW5vKH26jAXIL6YQnWOhcR1Q7qYiIC0q6IiIhIR9KspyUEW58+fUhOTubAgQMApKWlUVRU1GAbt9tNaWnpWcfpgm8cb1xcXIOprflvKAtQz63bFk5trC/Q6kUOIiIi0ll1qHB77NgxTp486X+WblZWFuXl5Q3eirZmzRq8Xi/jx48PVplN8lXPbWDCLXz1IgfdVCYiIiKdVVCHJVRVVfl7YQEOHTrEtm3bSEpKIikpiccee4zZs2eTlpbGwYMHefDBB+nbty9Tp04FYNCgQUybNo277rqLJUuW4HK5mD9/PjfddFO7flICBP6GMvC9yCHlcLHeUiYiIiKdVlB7bjdv3syoUaMYNWoUAAsWLGDUqFE8/PDDmM1mtm/fzje/+U369+/PnXfeyejRo/nkk08aPOv21VdfZeDAgUyaNIlrrrmGyy67jBdeeCFYp9Q0huEPtwHtudWLHERERKSTC2rP7cSJE/3Pym3MBx98cN42kpKS2v0LG74uvKbG/4MP1NMS4PRwq55bERER6Zw61JjbUGE79XrgOrMJtyVwl6D+iQkaliAiIiKdlcJtENSH20qbOaDt+l/koBvKREREpJNSuA2C1gu3GpYgIiIinZvCbRBYT4XbqgCH2/phCTGlVYR5vAFtW0RERKQjULgNgvqe2yprYMNtdUI03jATYV6D6NKqgLYtIiIi0hEo3AaBtZWGJRjmMP/QhDi9pUxEREQ6IYXbIGitMbcAFV3jAYhXuBUREZFOSOE2CGyVvhu+WiXcpp4Kt4UVAW9bREREpL1TuA0Ca3U10Drh1t7V9ziwuGKFWxEREel8FG6DwD8sIcA3lMHpPbcaliAiIiKdj8JtENha6VFgABWnem7j1XMrIiIinZDCbRC05phbe4rG3IqIiEjnpXDb1pxOwuvqgNa9oSymrBqz0x3w9kVERETaM4XbtlZaCoAXqAkP/I+/Ji4Sl9UC6Fm3IiIi0vko3La1U+G2DPCGmQLfvsn01U1lCrciIiLSySjctrWTJ30frXgI/+PAijTuVkRERDoXhdu2Nno07z75JDe34iEq6m8qU7gVERGRTkbhtq1FRVGemcmWVjxERcqpx4EVaViCiIiIdC4KtyFIPbciIiLSWSnchqD6Z93GqedWREREOhmF2xDkf1qCem5FRESkk1G4DUH1r+CNqHZgq6oLcjUiIiIibUfhNgS5Iq3UxkYAetatiIiIdC4KtyGqwj/uVkMTREREpPNQuA1RXz0xQT23IiIi0nko3Iaor551q55bERER6TwUbkOUHgcmIiIinZHCbYjSixxERESkM1K4DVEaliAiIiKdkcJtiPI/LaHYjslrBLkaERERkbahcBuiKpNj8YaZsLg8xFbWBrscERERkTahcBuivBYz9lNvKksu0U1lIiIi0jko3IawsvREAJJLKoNciYiIiEjbULgNYeVpCYDCrYiIiHQeCrchrCw9AdCwBBEREek8FG5DmIYliIiISGejcBvCyhVuRUREpJNRuA1h9cMSEsuqsQS3FBEREZE2oXAbwqqSYnBZLYQZBpnBLkZERESkDSjchjKTyf/EhN7BrURERESkTSjchgCnx4nH62l0Xf1NZX3asiARERGRINFQzA7K6XGyp3gPnxd+zqHyQwBEh0cTHxHPxWkXMyp9FGGmMMpPjbtVuBUREZHOQOG2AzpWfYz/W/9/1LnrGiyvdlVT7armROUJ1h9fz9V9rmZC9yQA+gajUBEREZE2pnDb0XSD94+/j4FBYkQiI9NGMixlGFazlUpnJYfKD/HJkU8oqSnhHzv/QVXqYKYC/YDGBy6IiIiIhA6F2w7CwCDHdgz6++ZHpI5gZv+ZWMK+uoTR1mjSYtIYlTaK7CPZrD+2nne8u7lvGvxqBXxhGEE8AxEREZHWp3DbQWzmBDusRQCMSx7HtAHTMJlMjW4bYYlg6kVTSYpI4r0D7/HHCVATDvOLi9qyZBEREZE2F9SnJXz88cdce+21dOvWDZPJxL///e8G6w3D4OGHHyY9PZ3IyEgmT57M/v37G2xTWlrKnDlziIuLIyEhgTvvvJOqqqo2PIvWdxw7Kzjo+3IQRiaNPGuwPd3Y7mO5bsB1hHnhr6Phb3v+2sqVioiIiARXUMNtdXU1I0aMYPHixY2uf+qpp/jjH//IkiVL2LBhA9HR0UydOpW6uq9upJozZw67du1i5cqVLF++nI8//pi77767rU6h1dXg4k124zUZ9HIlwNHm7T8ybSQPbUkA4NmKZXx85OOA1ygiIiLSXgQ13E6fPp0nnniCG2644Yx1hmHw7LPP8tBDD3HdddcxfPhw/u///o8TJ074e3j37NnDihUr+Otf/8r48eO57LLLeO6553j99dc5ceJEG59N63ibfVSYHCQZkUys69miNiZWpjP3c/CYDG76100UVhUGuEoRERGR9qHdvsTh0KFDFBQUMHnyZP+y+Ph4xo8fT05ODgA5OTkkJCQwZswY/zaTJ08mLCyMDRs2nLVth8OB3W5vMLVH+znJPtNJwgwT32YwVswtaqc4JYEly2FAdTT5Vfl8963v4jW8Aa5WREREJPja7Q1lBQUFAKSmpjZYnpqa6l9XUFBASkpKg/UWi4WkpCT/No1ZtGgRjz32WIArDiwPXj44Nc52At1JI4Z8KgEoLi5uVlvWCIh2wf+tTODKbxusObSGl7a+xPcv/n7A6xYREREJpnYbblvTwoULWbBggf+73W6nR48eQazoTBs5wUlTLdFGOFfgG45Q6XQCsGzZsma11b8YfgYM2XacBU/8nCc2/4oHVz7INwd8k5TolPPuLyIiItJRtNtwm5aWBkBhYSHp6en+5YWFhYwcOdK/TVFRw8dbud1uSktL/fs3xmazYbPZAl90gFTjJJvDAEyiN7ZTl6nO7QZgeq9e9OiS1OT2yvKrce3aRzQwi/EsTxvJtoJtPPDhA/zthr8FunwRERGRoGm3Y2579+5NWloaq1ev9i+z2+1s2LCBrKwsALKysigvLyc3N9e/zZo1a/B6vYwfP77Naw6UtRzBYfKQbsQwkjNDelJkBOkxsU2eEmOi6x8kRsyRo/xl5l8wYeLv2//O6i9Xn9G+iIiISEcV1HBbVVXFtm3b2LZtG+C7iWzbtm3k5eVhMpm47777eOKJJ3j77bfZsWMHt956K926deP6668HYNCgQUybNo277rqLjRs38tlnnzF//nxuuukmunXrFrwTuwCVONhKPgBTuAgT53+ebVPsPfUZceQI47qPY97YeQDMe28eLo8rIMcQERERCbaghtvNmzczatQoRo0aBcCCBQsYNWoUDz/8MAAPPvggP/zhD7n77rsZO3YsVVVVrFixgoiICH8br776KgMHDmTSpElcc801XHbZZbzwwgtBOZ9AyOEYHpNBphFHLxIC1m59uLUdPgzAE1c9Qdeoruw7uY8Xt74YsOOIiIiIBFNQx9xOnDgRwzDOut5kMvH444/z+OOPn3WbpKQkXnvttdYor83V4mIzvufzXkZmQNv299yeCrfxEfE8/I2H+eH7P+SRtY8wZ9gcYm2xAT2miIiISFtrt2NuO6ONHMdl8pJqRNOXpt8w1hRfD7cAd4++m75JfSmqLuL3Ob8P6PFEREREgkHhtp1w4mEDxwFfr22gxtrW23fq01pUBJW+5+VazVYWTVoEwO/W/Y78yvyAHlNERESkrSncthNbyKfW5CbJiGQwXQPefjngf63Fvn3+5bMHzWZ89/FUu6p5PPvswz9EREREOgKF23bAwGDTqbG2WWQQFuBe23r1QxPYs8e/zGQy8dTVTwHw4tYXOVpxtFWOLSIiItIWFG7bgUOUU2qqxWqYGU7q+Xdood3+md0Nll/R8wqu7HUlLq+LX3/661Y7voiIiEhrU7htB+qfkDCCVKyYW+04O/0zO89Y9/A3fI9f++vWv3LcfrzVahARERFpTQq3QWbHwV5KABhD6754Ylf9TCPhdmKviVzR8wqcHie/+ew3rVqHiIiISGtRuA2yLeRjmKCnEU8K0a16LH+4PXwYqqrOWP/wFb7e2xdyX9CTE0RERKRDUrgNIi8GuadetdvavbYAJwFXly6+L18bdwtwVe+ruLTHpTg8Dp767KlWr0dEREQk0BRugyg/uooqk5NoI5xBJLfJMWsvusg308jQBJPJ5B97uyR3CQVVBWdsIyIiItKeKdwG0ZG4CgBGkoa5jS5F3TnCLcDVfa5mfPfx1Lnr+N2637VJTSIiIiKBonAbLNFQGOUb9zqStDY7rL/ndteuRtebTCYe+cYjADy/+XmKqovaqjQRERGRC6ZwGyzDwTBBdyOWZKLa7LC1ffv6ZrZvP+s20/pOY0y3MdS4ang65+k2qkxERETkwincBoFhGDDSN9+WvbYAdX37gskEBQW+qRGn997+aeOfKKkpacsSRURERFpM4TYIDjsOQyqEeU0MoWubHtsbGQkDBvi+bN161u1m9JvBxekXU+2q5tn1z7ZNcSIiIiIXSOE2CD6p/ASAbtUxRBLe9gWMGuX73LLlrJuYTCYeuvwhAJ7b+BzldeVtUJiIiIjIhVG4bWNOj5N1lesAyKyMD04RF1/s+zxHzy3AdQOvY0jXIdgddhZvXNwGhYmIiIhcGIXbNvbuF+9S5a2CSkitad03kp1Vfc/tecJtmCmMn1/+cwCeWf8MVc4z32omIiIi0p4o3LaxSX0m8f2U78NaMGEKThH14fbLL6Gi4pybfmfId+ib1JeTtSf5y+a/tEFxIiIiIi2ncNvG4mxxTIybCLlBLCIpCXr29M1v23bOTc1hZhZethCA3+X8jjp3XSsXJyIiItJyCredVRNuKqs3d/hcMuMzKagq4KWtL7VyYSIiIiItp3DbWTVx3C2A1WzlwUseBOA3n/0Gl8fVmpWJiIiItJjCbWfVjHAL8L1R3yMtJo28ijz+vv3vrViYiIiISMtZgl2AtK09e/YAEB4ezjDA2LOHbevWYUREnHffmzJv4tndz/LI6kcY6h2K2WQ+67bJyclkZmYGqmwRERGRJlG47QSqqpz++blz5/rnC4EUj4e7L72UzU1pyArcB0c5yrjbx8HOs28aGRXJ3j17FXBFRESkTSncdgJ1dW7fzCCYNXcWycnJABT/4T1Sdh/jR3Mu45MrBjeprS2VW9hctZnEmxL5VvK3MJnOfJxZ8ZFilj25jJKSEoVbERERaVMKt51JFCT3TiY9PR2AshE9YfcxBtprOdA/vUlNTHJPYsf6HZS5yyhLKmNI1yGtWbGIiIhIs+iGsk4sv58v0KZ/kd/kfSIsEUzImABA9uFsvIa3VWoTERERaQmF207s2KDuAKQdKMDiaPrjvSZkTCDCEkFxTTG7ine1VnkiIiIizaZw24lVpMZTmRSD2eOlWzN7b7MysgD13oqIiEj7onDbmZlMHBuSAUDGrqPN2nV89/FEWiI5WXuSnUXneGyCiIiISBtSuO3kjg4+FW53H2/WfjaLjUt6XALA2sNr8Xg9Aa9NREREpLkUbju5Y6fCbY/dR8EwmrXvuO7jiA6PpqyujC35W1qjPBEREZFmUbjt5PL7d8NjDiP2ZBXxhRXN2tdqtvKNXt8AIPtINk6P8zx7iIiIiLQuhdtOzhURTuFFqQBk7D7W7P0vTruYpMgkql3V5BzNCXR5IiIiIs2icCscHVI/NKH54dYcZuaq3lcBsO7YOqqd1QGtTURERKQ5FG6FY4N7AJCxq/nhFmBw8mC6xXbD6XGSfSQ7kKWJiIiINIvCrfhvKks/kI/F6W72/iaTiav7XA3A5hObKXWVBrQ+ERERkaZSuBXK0hOoSozG7PY261W8p+uV0ItByYMwMFhnXxfgCkVERESaRuFWfC9z8D/vtnkvczjdlIumYAmzcMJ5AgYFqjgRERGRprMEuwBpW8XFxY0u390jnoFA1837yb+8d4N1UVFRxMfHn7fthIgELsm4hI/zPoapUOepC0TJIiIiIk2mcNvJLFu2rNHlOypgFpC59TD/+5cXMExfrbNYLMyfP79JAffSzEvJPZZLdUI1Sw8s5ZKxlwSochEREZHzU7jtZKb36kWPLklnLA/zGNTt/Jxkl5dHew7keNcoAIqra1i2dy81NTVNCrdWs5WsuCxWla/i5f0v86OiHzEkZUjAz0NERESkMQq3nUxSZATpMbGNrjuWGU/fg2WMLXTh7d34Nk3RO6I37AP3ADd3vXMXn37vU8JMGt4tIiIirU+JQ/wO9UoAoPfh8gtqx2QywbsQbYkm51gOz296/sKLExEREWkChVvxO9w7AYCeRyoweY0La8wO8wfNB+Cnq39KXkXeBVYnIiIicn7tOtw++uijmEymBtPAgQP96+vq6pg3bx5dunQhJiaG2bNnU1hYGMSKO7b89FgcVjORdW7SCqsuuL1v9fwWl/a4lCpnFbcuuxWP1xOAKkVERETOrl2HW4AhQ4aQn5/vnz799FP/uvvvv5933nmHN998k+zsbE6cOMGsWbOCWG3H5g0zcaSn76ax3ofKL7i9MFMYS69fSow1huwj2Tz12VMX3KaIiIjIubT7cGuxWEhLS/NPycnJAFRUVPDiiy/y9NNPc9VVVzF69Ghefvll1q1bx/r164NcdcdVP+621wWOu63XN6kvz01/DoCH1z7MpuObAtKuiIiISGPafbjdv38/3bp1o0+fPsyZM4e8PN/YzdzcXFwuF5MnT/ZvO3DgQDIzM8nJyTlnmw6HA7vd3mASn9PH3YZd6LjbU24bcRvfGfId3F43333ru9gd+nmLiIhI62jX4Xb8+PEsXbqUFStW8Pzzz3Po0CEuv/xyKisrKSgowGq1kpCQ0GCf1NRUCgoKztnuokWLiI+P9089evRoxbPoWApSY6iNsGBzekg/URmQNk0mE0tmLKFHXA8OlB7g1mW34jW8AWlbRERE5HTtOtxOnz6db3/72wwfPpypU6fy3nvvUV5ezj//+c8LanfhwoVUVFT4p6NHjwao4o7POH3cbYCGJgAkRibyr+/8C5vZxn/2/YcnPn4iYG2LiIiI1GvX4fbrEhIS6N+/PwcOHCAtLQ2n00l5eXmDbQoLC0lLSztnOzabjbi4uAaTfOXL3okAXHSwLKDtjus+judn+J55+8jaR3hn3zsBbV9ERESkQ4XbqqoqDh48SHp6OqNHjyY8PJzVq1f71+/bt4+8vDyysrKCWGXHd6Cf7/W8mXkV2JyBfXzXHaPuYN7YeQB8963vsjV/a0DbFxERkc6tXYfb//mf/yE7O5vDhw+zbt06brjhBsxmMzfffDPx8fHceeedLFiwgI8++ojc3FzuuOMOsrKymDBhQrBL79BKkyI5mRSJ2Wsw8Ehgxt2e7pmpz3BlryupclYx/dXpHCw9GPBjiIiISOfUrsPtsWPHuPnmmxkwYADf+c536NKlC+vXr6dr164APPPMM8ycOZPZs2dzxRVXkJaWxltvvRXkqkPDgb6+3tthhyoC3na4OZxlNy5jROoICqsLmfr3qRRW6eUbIiIicuEswS7gXF5//fVzro+IiGDx4sUsXry4jSrqPPb3TWT8xuMMOWSHpMC3Hx8Rz/tz3ueSly7hYNlBpv59KqtuXUVyVHLgDyYiIiKdRrvuuZXgOdwrAZcljKQqFyMu/E28jUqPTefDuR+SGp3K54Wfc+UrV1JUXdQ6BxMREZFOQeFWGuUON3Ogr++pCdeXtN5x+nXpx9rb15Iek87Oop1MXDqR/Mr81jugiIiIhDSFWzmrvQN9QwRuaMVwCzAweSDZt2eTEZfBnpI9XPLSJewp3tO6BxUREZGQ1K7H3EpwfdGvCx4TjKiG5EI7pKc3a/89e5oXUP889s/MXz+fw+WHGf+/4/ntmN8yNnlsk/ZNTk4mMzOzWccTERGR0KNwK2dVGxXO/owYBh6tYuTmw+waOaBJ+1WV+gbpzp07t/kHjQJugsrMSu759B54F9hy/t0ioyLZu2evAq6IiEgnp3Ar57SlfyIDj1YxNucgu77ftH3qquoAuPIHV9JvRL9mH9NtuFlbvpYv676Eb0L/G/tzWfxlWEyN/+tafKSYZU8uo6SkROFWRESkk1O4lXPa0j+B76w+Sq8vi0k6dpLSjC5N3jexeyLp/Zs3lKHeXGMunx39jDWH1vBF7RfYzXZmD5qtR4WJiIjIOemGMjmnyqhwVvsemsDQNTvb7Lgmk4nLMi9j7vC5RIVHUVBVwAu5L5B7IhfDMNqsDhEREelYFG7lvP6R4vsctnontHGw7JPYh/8a/V/0TuiNy+ti+f7lvLHrDSodgX8tsIiIiHR8CrdyXsu6gjPcTNe8EjL2HG/z48fZ4rhl+C1c3edqzCYz+07uY/GmxWw+sVm9uCIiItKAwq2cl90CueP7ADDqvSY8uqAVmEwmLulxCXddfBfdY7vj8Dh4d/+7vLztZcpcZUGpSURERNofhVtpks+uHAjA0DW7sNY6g1ZHakwq3xv1PaZdNI3wsHCO2o/y/0r+H0wEpyd4dYmIiEj7oHArTbJ/YBonM5Kw1ToZtmpHUGsJM4UxPmM888bOo19SP7x4YSLcmH0j7+1/L6i1iYiISHAp3ErTmExsvnY0AOP/34Y2v7GsMfER8dw89GYmJUyCKsirzmPGazOY8doMvjj5RbDLExERkSBQuJUm23LNxTgiraQcKeaizV8GuxzANxb3osiL4Dm45aJbCA8L57397zH0z0N5cOWD2B32YJcoIiIibUgvcZAmc8REsHX6SCa8tZGsN3M4OPaiYJf0FQdMNU3lhm/cwO93/Z7Pij7jt+t+y0u5LzF/0HxmZswkzBTY3+WSk5P1RjQREZF2RuFWmmXD7AmM+/cm+m46SPfdxzg+OCPYJVFVWgXA3Llzv1rYD5gGJ7uc5LFtj/HY8sfgfSCATzKLjIpk7569CrgiIiLtiMKtNEtZt0Q+nzKCUSu2MfGVbF79zZxgl0RdVR0AV/7gSvqN6Odf7jE87KzeyZaqLbgyXHAX9I3sy7jYccSYYy7omMVHiln25DJKSkoUbkVERNoRhVtpto/nXs6IDz+n38YDZO7II29Y+wh3id0TSe+f3mBZBhlc5ryM1V+uZlvhNg7UHuCw4zBZGVlc2uNSbBZbkKoVERGR1qAbyqTZyronsXX6KACm/WkFJm/wn5xwLjHWGK4beB13XXwXPeN74va6+STvE57b+Bxb8rfgNbzBLlFEREQCRD230iTFxcUNvv9j5mAGr9lBty/y6fXGWtZNHOhfV1ZW5v+sqKggPj6+TWs9m26x3bhtxG3sO7mPlV+upLS2lHe+eIcNxzcw9aKp9EnsE+wSRURE5AIp3Mo5VTp9b/1atmzZGeuMbvD7gzDjpY95cOfHFFlPrSj0fXz00Ud8su0T5s+f324CrslkYmDyQPol9WPTiU1kH8mmqLqIv23/G/2S+nF1n6vpGt012GWKiIhICyncyjnVud0ATO/Vix5dkhqsqxlpkPfqXjKLa3m/OIG/XNsbTCb27y7loz2HGdMtnc2V+dTU1LSbcFvPHGZmQsYERqSOIPtINptObGJ/6X4OlB5gTLcxfKPnN4i2Rge7TBEREWkmjbmVJkmKjCA9JrbBlBofx3uzBuMJM3Hx/nJm7K8mPSaWxMgIAGJt7f9mrcjwSKb1ncYPxvyAgV0GYmCw6cQmntv4HJ/kfYLT4wx2iSIiItIMCrdyQQrSYvjoyl4AXPPeftLzK4NbUAt1ierCjUNv5LYRt5EWk4bD42DNoTU8t/E5Nh7fiMfrCXaJIiIi0gQKt3LBPru0B/v6J2HxGNz8j510qXEFu6QW65XQi7svvpsbBt5AQkQCVc4q3j/wPn/a9Cc+L/hcT1YQERFp5xRu5YIZJhPLbhhEUdco4iqdPLTuKF2CXdQFMJlMDE8dzvyx87mm3zXEWGMoryvn3/v+zZLNS9hRtEMhV0REpJ1SuJWAqIuw8OqcYVTGWMm0O1kDJNR17L/KN4eZGdttLP897r+Z1HsSEZYIimuKeWvPW/yz+J9wMRqTKyIi0s4o3ErAVMRH8MptIyizmRkOPPdRPv1qgl3VhQs3h3NZ5mX8aPyPuLLXlURaIrF77PBNuG7NdTy7/lmqndXBLlNERERQuJUAK0mO4hdX9ORLoHu1mw1bYMTmw81up6Kigvz8/CZNp780Ij8/n4qKisCe1CkRlgiu6HkF9024j6y4LLBDUV0R939wPxnPZHD/ivvZV7KvVY4tIiIiTaPn3ErA5cdamQB8lGRjSKmDHzz9IZu/KGHlf12NIybivPtXVFTwpz/9CfepZ+ye12kvjfho80dYLJZWfXGE1WxlWPQwcv6Qw8/f/DmvH32dg2UHeXbDszy74Vkm9Z7EvWPu5ZsDvkm4ObxVahAREZHGKdxKqygG7p+YxrSNR1hwDMYs38LAz/bx0e0T2TZ9FJ5w81n3rampwe12c8PAgXSNjjrvsepfGnFl714kJEewbO/etnlxhAdm9ZzF49c/zgcHPuDPm//Mu1+8y+pDq1l9aDXdYrsxZ9gcbhp6E6PSRmEymVq3HhEREVG4ldbjDjPxQF/w3jGTO15eR5djpVz7zLt8428fkzvzYnZMGkZpxtmfq9A1Oor0mNjzHqck0jewNzEiguQmhOFACzOFMb3fdKb3m87h8sO8kPsCL259kROVJ/jtut/y23W/pW9SX24cciM3DrmRoSlDFXRFRERaicKttLr9g7rx55d+wJi3N3PZPz4lrqSSK5dmc+XSbMrSEyjom0Zpt0TK0hNxRlrJqLRTVgRj9paSZKvB5IUww8BhNVMVa6Uyxoo9PgJvWPsLiL0SevHkpCd5dOKjvL3vbd7Y9QbvfvEuB0oP8KtPfsWvPvkVA5MHMr3vdKZcNIUrel5BVHjbB3IREZFQpXArbcITbmbD7PFs/uYYhqzdxfAPt9N76yES88tJzC8/Y/vvA+w+fNb2nOFhHO8ex/5+SeSb21/ItZqtfGvwt/jW4G9R5azinX3v8MauN3j/wPvsLdnL3pK9PLP+GaxmK5dnXs6Ui6ZwVe+rGJE6QuN0RURELoDCrbQpT7iZ7VcPZ/vVw7HWOOix6xhdjpaQdKKMhIJyLE43rpo6Co8dJy0uhvBwC4bJhGECm8NDbKWT2EoHVpeX3ofL6X24nMnAtcAnJbWUp7a/XtAYaww3D7uZm4fdTEVdBR8e/JAPD37IBwc/4Kj9qH+MLvieyDA6fTQTMib4p+6x3TGZTOTl5VFSUtJmdScnJ5OZmdlmxxMREQkEhVsJGmeUjYNjL+Lg2IsaLM/Pz+eFF17g7tH9Gx1zazIMkotr6H2onMF7iul1pIKZwMwVR/j8i3LWJ7XRCQB79uxp9j4XcRH3ZtzLPd3v4Uj1EdYXr2d98Xo+L/0cu8vOZ0c/47Ojn/m3T7AmkGnLZNdHu/Cc8PieDlEMtPL7IyKjItm7Z68CroiIdCgKt9LhGCYTxSnRFKdEs3F8d0pyjnLxh19ymwlGfFnBli9h7Svr2PDfM3FG2VqlhqrSKgDmzp0b2Ia7ABmnTalQ7iyn3FkOYxpuGmuOJcmSRFJ4EomWRBIticRb4rGYLvyPdfGRYpY9uYySkhKFWxER6VAUbqXDy4+xciew5do+3L63lDFflDPpg52MzT3Cuz+6hn2XDQz4Meuq6gC48gdX0m9Ev4C3X89tuClzl7Fn3x727ttLyqUpVFuqqXZVU+mppNJTyRHHkQb7JEYk0jW6K8lRyXSN6krXKN+8zdI6QV9ERKQ9UbiVkJEfZ+V/r+3DwpVbeLUwjpRCOzf/4g12fWMw7/33dKqTYgJ+zMTuiaT3Tw94u6frQQ9M+Sb2friXy75xGcMuGUa1s5qi6iIKqwsprimmuLqY4ppi6tx1lNWVUVZXxhcnv2jQTpwt7quwG/1V8I0Mj2zV+kVERNqSwq20uuLi4lbd/utWJcHjC77FjR9+waWvf8aQ7N303nqIFfOmsv3q4RACz5iNtkbT29qb3om9/csMw6DaVe0PuiU1Jf7gW+2qxu6wY3fYOVh2sEFbMdaYBr28XaO7YniNtj4lERGRgFC4lVZTd+r1ucuWLWvR/g5ny++YclktrL5rErsmDua6p94m/UABsxb9m2FrdrL8/plUpLby28uCwGQyEWONIcYa0yD0AtS6an1B91TYrQ++doedKmcVVc4qDpcfbtjgApi/fj6XllzKsNRhDEsZxqCug4iwnP8VyiIiIsGicCutxuXxADC9Vy96dGn6Iwz2nyzlo8OHcZ8Kxy1R3/ubHwOfPzyTKe9+zsy3ttBvwwHuvX0xb397DNmTB+M+7TXAUVFRrf/K3iCJDI8kMz6TzPiGN4c53I6venhriimpLqGopojyunKIg5ziHHKKc/zbm01m+nXpx7CUYQxPHc6wlGEMSx1Gr4RehJnC2visLowerSYiEpoUbqXVJUVGNOk1uvWKa2pafKzKU729X+8tXgIMGAkv7oNL7S6+87ccxryZw0O94fUUMExgsViYP39+yAbcxtgsNrrHdad7XPcGy4/sPcLSXy3l53/8OeW2cnYU7WBH4Q7K6sr8L6F4c/eb/u2jw6MZmjLUH3brP5Ojktv6lJokLy+PgYMGUltT22bH1KPVRETahsKthJT6oRBn6y3+2+UGX+44yTfXnaBPtZvX9sAzBTbeGxjPA64iampqWhRuKyoqqGlBKG+vvcXWMCscg1k9Z3HxxRcDvjG9JypP+IPujiLftLt4N9WuajYc38CG4xsatJMek87A5IH0TepLv6R+vs8u/eiT2Ceorx0uKSmhtqaWG352A117dm1xO4ZhYGDgxYvX8OIxPP5549Q/AKXHS1n5l5XkHs6lNsoXqA0MDOOrsc3mMDNmkxlzmBlLmOW8803pKVfvtIh0RiETbhcvXsxvf/tbCgoKGDFiBM899xzjxo0LdlkSJOfqLT54SRx/GpPJhPXHuHTdUVLLHNyRU8RNYbC/ZgXHLxnEl6P7cLJHF7wWc6NtnK6iooI//elPLRpGEYze4qYE8fpAdPpLKuqDS/e47kzrO82/3OVxsb90f4PAu6NwB4fKD5FflU9+VT4fHf7ojGN0iexCRlwGGXEZdI/tTkZcBumx6SRGJJIUmURSZBKJkYkkRiQSbY1u0bAHj9dDrbuWWldtg8+tJ7fCRVCZUokRZ+D0OHF6nTg9Tlwe11efX1tWP7m8LjxeDx7D07RCrMAPYdZHs+DMH0WLmDBhCbNgs9iIsET4p0hLJBGWCEweE5vXb8br9IILcOP7dJya6k6bP32qPbWuBfcUqndaJLj0C61PSITbN954gwULFrBkyRLGjx/Ps88+y9SpU9m3bx8pKSnBLk/aIZfVzCdX9GTDhAyGbS9k5MZj9CiuZfjWPIZvzQPAG2aiPC2B8tQEXJHhuKzhGGEmwh0ubjhRxgKg23OriTIM/qfMTQJh2NwGYV4Db5gJbxg4ws1URlqoirJQGWmhMspCaayV0jgrX4Z7+XthHnWVVW0Wbu2lZbz6x8XE1nlIcEOiC9+nG+I84DKBIwxinPAd4P/mzuUEkA9UW6386623SE9v/NFn/ehHv4R+zEqYBf2h2l3Nl5VfkleVx9Gao+RV53Gs+hh51XlUuio5WXuSk7Un+bzw8ybVHh4WToQlwh/mrGYr4Os99feUGgYur8sfYp2ec9yUeAusKl8F5c36EZ6XCVODnlUTJrxeL65aFzExMVgsFv9y8N0IWH8Obq8bj+HxB2ev4T3rcQx85+pyuqhyVjW+Ue/GFzflHKwmKxFhEUSERWALs50xbzM1XFZ5rJK3n3xbL/4QCZJgDLeKiIpgz+499OrZq82O2RQhEW6ffvpp7rrrLu644w4AlixZwrvvvstLL73ET3/60yBXJ+2Z02omd0w3lg+IYUP2Vn7Rfxwj95eQuSOPcIebpBNlJJ0oO3sDBRWnffkqiIR5DfCC1e0mttYNpY3v/iTg3fAilV1jqUiJ902p8di7xlEXbcMVYcUZEY7z6EnGAwOOnCQzNg+T1yDM7cFa6/RPtvrPagcRVXVEVNURWVnrn4+oqiOi2sHTLf1ZOZ3kz5zJMeAo+D9Pny+kiR1+EUBcw8mcZGbijInUUUdpbSlldWWcrDmJy+sC8Ae5Smdli+q3mW1EhkcSaYnEYlg4euAo6RkpxEVEEukNI8oTRnith5L9h4l2QJwT4hyQ6IAkB3Spgy4OiHVCrAMi3RDlhkgPhHt8V99rQGJqMkaEDU+4GZctHFdEOBVON1vX72f23OtJ7dMHoqMbn6KiIDwcPB7weDDcbjwel2+qrcFdW42npgpPTTWe2mqKC06w9K9/wTB5sFjAbIEwCxjhYFhOTVHgDQe3GRzhUGmDKqvv88iQdGojzdR56nC4HdS563B5XRgYOAwHDo+DCk/FeX+2gK93+mdwzcprSN2YSpfILv4e+K9P8bZ4YqwxxNpi/U/4iLXGEm4Ob9G1FenMXB4Xte5a9h7bS621lkn3TyI2LRaP4cFtuHEbblyGyz/vn3Cfuexrk8fw+DsOvHgbzhsGdaY6fvXZr/jfnv8b7B9DAx0+3DqdTnJzc1m4cKF/WVhYGJMnTyYnJ+cce4qcxmTi81j48NqR7EhPx+Q1iD1ZSeKJMuKKKgh3urE43YR5vLhs4Xx5oIC1b2/m4tsvxZbZhX+8+zbXDh9MQnws3jATYYYv4FodbqJrXETVuIiqdhFT5STe7iC+wkF0eS3xFQ5shkF8kZ34Iju+iHgOL2QD2Rd8unXhYTgiw6mLsPgnh82MyTCwuL3UltVhL6ymR2w4KS6D2Do3VqDnqelsPGEmyhKjKU+IpibKRl1EOA5bOLWRVhy2cBw2Cx5zGN6wMDxmE96wMF8PeVkVG97K5cnRV9G7d2+IMMAwMLxeagwHNV4HDq+LOq8Th+GmzuvEabjAMAhzezG5XJhcbkwuFxaXhyinQaTTILLGSWRFDREV1ZjtlWC3Q0UF7rIysIOFogv+WZ7hy8af05wF8Pe/N6spE77/SJ/tP9SpwO+a1WJDix4fj+PiEQ2Wub1uf893jauGWlctNe5Tn64a//CO+vn6bQwMsEJhXSGFdYUtqsdqtjYIuzHWGKLCo7BZbFjNVmxm3+fX561mKzaLjfCwcH+veWOTCdNZ14WZwjCZTP7tmsPUzGdnt7f26xmn/Wp6+nhwrQvMOrfX7fsl3eNq8On2us9Ydvp8nbuu0T9z9d/d3tOGxN0Hq1kNJ2l9p/41O9ffMAVLhw+3JSUleDweUlNTGyxPTU1l7969je7jcDhwOBz+7xUVvp4Ju93eeoWepn6846G8MlzOJo7ZA47Z7VAO+w+VYT/ZjP2Onzqvyhbs24Jj1h+vuKAGXK1/zPrjHTpaBpG06GdUXueActiTs4f8hPyGK8342o386o/LsTAPW4EjtTXElIWxzQOxJ6tIqHY1foAwINYEsTZIt/mP+cmRPK4dM44+hpXkilq6VNSSXFFLYmUtEU43EU4PVqcHS1Udrhon4TFWzOHhuDGw19ZQFQZVYVBthupT81VhUG6BcjNUmBt+lpuhwgLjMtJIjo4++8/0iJ2thdWMujiJjNQ4qmrq+OLLo0wfMoJMw0KXilq62OtIsteSZK+ji72G+EoHZq+B9WQVKSfP8tfk5/A9gJ//nMb+FNpOTXHNbhU8QPU51rtNUB1ppcYWTmW4iaM1VVhjI3FFhlMTbqbaaqIm3ExNeBh14WG4w0x4wkx4TSbf/Kn/wNurajhYdBIbEG6AzQuRXoj2QlQNRJVBFL4p+mufp8+b8fUCe05N9fN1+IbD1nzts/Zr308fSusEMocmEp0QidvsqzvMMKiuc7K7qJjkqjqiPm/4+ubTmTARdeqfM4Th6621+v7HXXCsgA/++gE/f+LnJKQnUOmuxO6yU+mspNJdSYWzgkqXb1m1u9r3P2l3DbWeWn/vvBMnpdWllJ7trzpE5NxcEB4eTnhYOBaT7wbUcJNvvn4ym8zn/G4xWTBj9q+r/6XQdOqf+vnSE6Ws+vMqblx+Y5vlp/rjfP0XiTMYHdzx48cNwFi3bl2D5T/+8Y+NcePGNbrPI488YuD721NNmjRp0qRJkyZNHWg6evToObNhh++5TU5Oxmw2U1jY8K/BCgsLSUtLa3SfhQsXsmDBAv93r9dLaWkpXbp0afZf/7SE3W6nR48eHD16lLi4lvRFSTDounVMum4dk65bx6Tr1jF1lOtmGAaVlZV069btnNt1+HBrtVoZPXo0q1ev5vrrrwd8YXX16tXMnz+/0X1sNhs2m63BsoSEhFau9ExxcXHt+l8iaZyuW8ek69Yx6bp1TLpuHVNHuG5NebpQhw+3AAsWLOC2225jzJgxjBs3jmeffZbq6mr/0xNEREREpHMIiXB74403UlxczMMPP0xBQQEjR45kxYoVZ9xkJiIiIiKhLSTCLcD8+fPPOgyhvbHZbDzyyCNnDI2Q9k3XrWPSdeuYdN06Jl23jinUrpvJMM73PAURERERkY6h+S9rFxERERFppxRuRURERCRkKNyKiIiISMhQuBURERGRkKFw28YWL15Mr169iIiIYPz48WzcuDHYJXVqH3/8Mddeey3dunXDZDLx73//u8F6wzB4+OGHSU9PJzIyksmTJ7N///4G25SWljJnzhzi4uJISEjgzjvvpKqqqg3PovNZtGgRY8eOJTY2lpSUFK6//nr27dvXYJu6ujrmzZtHly5diImJYfbs2We8yTAvL48ZM2YQFRVFSkoKP/7xj3G73W15Kp3K888/z/Dhw/0Pis/KyuL999/3r9c1a/9+/etfYzKZuO+++/zLdN3ap0cffRSTydRgGjhwoH99KF83hds29MYbb7BgwQIeeeQRtmzZwogRI5g6dSpFRUXBLq3Tqq6uZsSIESxevLjR9U899RR//OMfWbJkCRs2bCA6OpqpU6dSV1fn32bOnDns2rWLlStXsnz5cj7++GPuvvvutjqFTik7O5t58+axfv16Vq5cicvlYsqUKVRXV/u3uf/++3nnnXd48803yc7O5sSJE8yaNcu/3uPxMGPGDJxOJ+vWreOVV15h6dKlPPzww8E4pU4hIyODX//61+Tm5rJ582auuuoqrrvuOnbt2gXomrV3mzZt4i9/+QvDhw9vsFzXrf0aMmQI+fn5/unTTz/1rwvp62ZImxk3bpwxb948/3ePx2N069bNWLRoURCrknqAsWzZMv93r9drpKWlGb/97W/9y8rLyw2bzWb84x//MAzDMHbv3m0AxqZNm/zbvP/++4bJZDKOHz/eZrV3dkVFRQZgZGdnG4bhu07h4eHGm2++6d9mz549BmDk5OQYhmEY7733nhEWFmYUFBT4t3n++eeNuLg4w+FwtO0JdGKJiYnGX//6V12zdq6ystLo16+fsXLlSuMb3/iG8aMf/cgwDP1Za88eeeQRY8SIEY2uC/Xrpp7bNuJ0OsnNzWXy5Mn+ZWFhYUyePJmcnJwgViZnc+jQIQoKChpcs/j4eMaPH++/Zjk5OSQkJDBmzBj/NpMnTyYsLIwNGza0ec2dVUVFBQBJSUkA5Obm4nK5Gly7gQMHkpmZ2eDaDRs2rMGbDKdOnYrdbvf3JErr8Xg8vP7661RXV5OVlaVr1s7NmzePGTNmNLg+oD9r7d3+/fvp1q0bffr0Yc6cOeTl5QGhf91C5g1l7V1JSQkej+eMVwKnpqayd+/eIFUl51JQUADQ6DWrX1dQUEBKSkqD9RaLhaSkJP820rq8Xi/33Xcfl156KUOHDgV818VqtZKQkNBg269fu8aubf06aR07duwgKyuLuro6YmJiWLZsGYMHD2bbtm26Zu3U66+/zpYtW9i0adMZ6/Rnrf0aP348S5cuZcCAAeTn5/PYY49x+eWXs3PnzpC/bgq3ItKhzZs3j507dzYYSybt14ABA9i2bRsVFRX861//4rbbbiM7OzvYZclZHD16lB/96EesXLmSiIiIYJcjzTB9+nT//PDhwxk/fjw9e/bkn//8J5GRkUGsrPVpWEIbSU5Oxmw2n3EnYmFhIWlpaUGqSs6l/rqc65qlpaWdcUOg2+2mtLRU17UNzJ8/n+XLl/PRRx+RkZHhX56WlobT6aS8vLzB9l+/do1d2/p10jqsVit9+/Zl9OjRLFq0iBEjRvCHP/xB16ydys3NpaioiIsvvhiLxYLFYiE7O5s//vGPWCwWUlNTdd06iISEBPr378+BAwdC/s+bwm0bsVqtjB49mtWrV/uXeb1eVq9eTVZWVhArk7Pp3bs3aWlpDa6Z3W5nw4YN/muWlZVFeXk5ubm5/m3WrFmD1+tl/PjxbV5zZ2EYBvPnz2fZsmWsWbOG3r17N1g/evRowsPDG1y7ffv2kZeX1+Da7dixo8EvJytXriQuLo7Bgwe3zYkIXq8Xh8Oha9ZOTZo0iR07drBt2zb/NGbMGObMmeOf13XrGKqqqjh48CDp6emh/+ct2He0dSavv/66YbPZjKVLlxq7d+827r77biMhIaHBnYjStiorK42tW7caW7duNQDj6aefNrZu3WocOXLEMAzD+PWvf20kJCQY//nPf4zt27cb1113ndG7d2+jtrbW38a0adOMUaNGGRs2bDA+/fRTo1+/fsbNN98crFPqFO69914jPj7eWLt2rZGfn++fampq/Nvcc889RmZmprFmzRpj8+bNRlZWlpGVleVf73a7jaFDhxpTpkwxtm3bZqxYscLo2rWrsXDhwmCcUqfw05/+1MjOzjYOHTpkbN++3fjpT39qmEwm48MPPzQMQ9esozj9aQmGoevWXj3wwAPG2rVrjUOHDhmfffaZMXnyZCM5OdkoKioyDCO0r5vCbRt77rnnjMzMTMNqtRrjxo0z1q9fH+ySOrWPPvrIAM6YbrvtNsMwfI8D+8UvfmGkpqYaNpvNmDRpkrFv374GbZw8edK4+eabjZiYGCMuLs644447jMrKyiCcTefR2DUDjJdfftm/TW1trfGDH/zASExMNKKioowbbrjByM/Pb9DO4cOHjenTpxuRkZFGcnKy8cADDxgul6uNz6bz+N73vmf07NnTsFqtRteuXY1Jkyb5g61h6Jp1FF8Pt7pu7dONN95opKenG1ar1ejevbtx4403GgcOHPCvD+XrZjIMwwhOn7GIiIiISGBpzK2IiIiIhAyFWxEREREJGQq3IiIiIhIyFG5FREREJGQo3IqIiIhIyFC4FREREZGQoXArIiIiIiFD4VZEREREQobCrYhIO3f77bdjMpnOmA4cOBDs0kRE2h1LsAsQEZHzmzZtGi+//HKDZV27dm1WGx6PB5PJRFiY+jVEJHTpv3AiIh2AzWYjLS2twfSHP/yBYcOGER0dTY8ePfjBD35AVVWVf5+lS5eSkJDA22+/zeDBg7HZbOTl5eFwOPif//kfunfvTnR0NOPHj2ft2rXBOzkRkQBSuBUR6aDCwsL44x//yK5du3jllVdYs2YNDz74YINtampq+M1vfsNf//pXdu3aRUpKCvPnzycnJ4fXX3+d7du38+1vf5tp06axf//+IJ2JiEjgmAzDMIJdhIiInN3tt9/O3//+dyIiIvzLpk+fzptvvtlgu3/961/cc889lJSUAL6e2zvuuINt27YxYsQIAPLy8ujTpw95eXl069bNv+/kyZMZN24cTz75ZBuckYhI69GYWxGRDuDKK6/k+eef93+Pjo5m1apVLFq0iL1792K323G73dTV1VFTU0NUVBQAVquV4cOH+/fbsWMHHo+H/v37N2jf4XDQpUuXtjkZEZFWpHArItIBREdH07dvX//3w4cPM3PmTO69915+9atfkZSUxKeffsqdd96J0+n0h9vIyEhMJpN/v6qqKsxmM7m5uZjN5gbHiImJaZuTERFpRQq3IiIdUG5uLl6vl9///vf+px/885//PO9+o0aNwuPxUFRUxOWXX97aZYqItDndUCYi0gH17dsXl8vFc889x5dffsnf/vY3lixZct79+vfvz5w5c7j11lt56623OHToEBs3bmTRokW8++67bVC5iEjrUrgVEemARowYwdNPP81vfvMbhg4dyquvvsqiRYuatO/LL7/MrbfeygMPPMCAAQO4/vrr2bRpE5mZma1ctYhI69PTEkREREQkZKjnVkRERERChsKtiIiIiIQMhVsRERERCRkKtyIiIiISMhRuRURERCRkKNyKiIiISMhQuBURERGRkKFwKyIiIiIhQ+FWREREREKGwq2IiIiIhAyFWxEREREJGQq3IiIiIhIy/j/5LOZa4t5+6gAAAABJRU5ErkJggg==\n"
          },
          "metadata": {}
        }
      ]
    },
    {
      "cell_type": "markdown",
      "source": [
        "## Target vs Categorical / Ordinal"
      ],
      "metadata": {
        "id": "EY55Gvest_8A"
      }
    },
    {
      "cell_type": "code",
      "source": [
        "cate_cols=['Pclass','Sex','SibSp','Parch','Embarked']\n",
        "\n",
        "fig, axs=plt.subplots(2,3,figsize=(16,6))\n",
        "\n",
        "for col,ax in zip(cate_cols,axs.flatten()):\n",
        "  sns.countplot(data=data,x=col,hue='Survived', ax=ax)"
      ],
      "metadata": {
        "colab": {
          "base_uri": "https://localhost:8080/",
          "height": 509
        },
        "id": "dHD4SLR2uB0B",
        "outputId": "d1eb4acf-5e18-44c3-860b-0a73592227d5"
      },
      "execution_count": 27,
      "outputs": [
        {
          "output_type": "display_data",
          "data": {
            "text/plain": [
              "<Figure size 1600x600 with 6 Axes>"
            ],
            "image/png": "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\n"
          },
          "metadata": {}
        }
      ]
    }
  ]
}
